{
  "nbformat": 4,
  "nbformat_minor": 0,
  "metadata": {
    "colab": {
      "name": "numPy.ipynb",
      "provenance": [],
      "collapsed_sections": [],
      "toc_visible": true
    },
    "kernelspec": {
      "display_name": "Python 3",
      "name": "python3"
    },
    "language_info": {
      "name": "python"
    }
  },
  "cells": [
    {
      "cell_type": "code",
      "metadata": {
        "id": "yXyB8o1cbBuS"
      },
      "source": [
        "N = 100000"
      ],
      "execution_count": null,
      "outputs": []
    },
    {
      "cell_type": "code",
      "metadata": {
        "colab": {
          "base_uri": "https://localhost:8080/"
        },
        "id": "4KUsGM32bL3j",
        "outputId": "0ed72b63-948a-4d59-fe15-172a71fe6489"
      },
      "source": [
        "%%time\n",
        "list_  = list(range(N))\n",
        "for i in range(N):\n",
        "    list_[i]  = list_[i]* list_[i]\n"
      ],
      "execution_count": null,
      "outputs": [
        {
          "output_type": "stream",
          "text": [
            "CPU times: user 28.8 ms, sys: 759 µs, total: 29.5 ms\n",
            "Wall time: 29.5 ms\n"
          ],
          "name": "stdout"
        }
      ]
    },
    {
      "cell_type": "code",
      "metadata": {
        "colab": {
          "base_uri": "https://localhost:8080/"
        },
        "id": "QcXc5x_ebqxl",
        "outputId": "316dca78-83e0-42fb-dc3e-c9b35a830138"
      },
      "source": [
        "%%time\n",
        "list_ = list(range(N))\n",
        "list_  = [item*  item for item in list_  ]  "
      ],
      "execution_count": null,
      "outputs": [
        {
          "output_type": "stream",
          "text": [
            "CPU times: user 7.73 ms, sys: 2.99 ms, total: 10.7 ms\n",
            "Wall time: 11 ms\n"
          ],
          "name": "stdout"
        }
      ]
    },
    {
      "cell_type": "code",
      "metadata": {
        "colab": {
          "base_uri": "https://localhost:8080/"
        },
        "id": "zPOwDfYZhIEG",
        "outputId": "6649e29a-601f-445e-8a09-02b987d46376"
      },
      "source": [
        "%%time\n",
        "list_ = list(range(N))\n",
        "list_ = map(lambda x : x*x  , list_)\n"
      ],
      "execution_count": null,
      "outputs": [
        {
          "output_type": "stream",
          "text": [
            "CPU times: user 580 µs, sys: 1.91 ms, total: 2.49 ms\n",
            "Wall time: 2.5 ms\n"
          ],
          "name": "stdout"
        }
      ]
    },
    {
      "cell_type": "code",
      "metadata": {
        "colab": {
          "base_uri": "https://localhost:8080/"
        },
        "id": "xVCXnlU4h_oE",
        "outputId": "a6f87fc8-ba98-4c0a-be75-fe29e8218022"
      },
      "source": [
        "%%time\n",
        "list_  = list(range(N))\n",
        "list_sum  = sum(list_  )\n"
      ],
      "execution_count": null,
      "outputs": [
        {
          "output_type": "stream",
          "text": [
            "CPU times: user 7 µs, sys: 0 ns, total: 7 µs\n",
            "Wall time: 10.3 µs\n"
          ],
          "name": "stdout"
        }
      ]
    },
    {
      "cell_type": "markdown",
      "metadata": {
        "id": "ixosl6MxtD40"
      },
      "source": [
        "# **importing**"
      ]
    },
    {
      "cell_type": "code",
      "metadata": {
        "id": "ojZ_SB1Jij1P"
      },
      "source": [
        "import numpy as np\n"
      ],
      "execution_count": null,
      "outputs": []
    },
    {
      "cell_type": "code",
      "metadata": {
        "colab": {
          "base_uri": "https://localhost:8080/"
        },
        "id": "HJWvRej2u4bf",
        "outputId": "32e3b8ec-3bc6-4910-d06a-c445cba9f521"
      },
      "source": [
        "%%time\n",
        "arr  = np.arange(N)\n",
        "arr_sum  =  np.sum(arr)"
      ],
      "execution_count": null,
      "outputs": [
        {
          "output_type": "stream",
          "text": [
            "CPU times: user 632 µs, sys: 30 µs, total: 662 µs\n",
            "Wall time: 4.86 ms\n"
          ],
          "name": "stdout"
        }
      ]
    },
    {
      "cell_type": "code",
      "metadata": {
        "id": "6jAi9twh1A3-"
      },
      "source": [
        ""
      ],
      "execution_count": null,
      "outputs": []
    },
    {
      "cell_type": "markdown",
      "metadata": {
        "id": "u_tK00Jl27Xp"
      },
      "source": [
        "## creating np  arrays\n"
      ]
    },
    {
      "cell_type": "code",
      "metadata": {
        "colab": {
          "base_uri": "https://localhost:8080/"
        },
        "id": "onWOns7D3ElG",
        "outputId": "06b75718-c974-41dc-8f1a-407cc7d3fa4a"
      },
      "source": [
        "arr =  np.arange(5)  # 1st to create\n",
        "print( arr)"
      ],
      "execution_count": null,
      "outputs": [
        {
          "output_type": "stream",
          "text": [
            "[0 1 2 3 4]\n"
          ],
          "name": "stdout"
        }
      ]
    },
    {
      "cell_type": "code",
      "metadata": {
        "colab": {
          "base_uri": "https://localhost:8080/"
        },
        "id": "qz-N-IE13S2e",
        "outputId": "ed34bdb9-c972-4ca3-82df-8126a208958f"
      },
      "source": [
        "arr = np.array([0,2,4,6])  #  2nd way\n",
        "print(arr)\n"
      ],
      "execution_count": null,
      "outputs": [
        {
          "output_type": "stream",
          "text": [
            "[0 2 4 6]\n"
          ],
          "name": "stdout"
        }
      ]
    },
    {
      "cell_type": "code",
      "metadata": {
        "colab": {
          "base_uri": "https://localhost:8080/"
        },
        "id": "i58VnDa85Ued",
        "outputId": "772d29f3-bf86-4560-d04d-cc79963638af"
      },
      "source": [
        "arr.dtype"
      ],
      "execution_count": null,
      "outputs": [
        {
          "output_type": "execute_result",
          "data": {
            "text/plain": [
              "dtype('int64')"
            ]
          },
          "metadata": {
            "tags": []
          },
          "execution_count": 13
        }
      ]
    },
    {
      "cell_type": "code",
      "metadata": {
        "colab": {
          "base_uri": "https://localhost:8080/"
        },
        "id": "S1d0g-GQ5bEC",
        "outputId": "d67a5721-66ab-4722-d324-252f9ccd00b1"
      },
      "source": [
        "arr.ndim"
      ],
      "execution_count": null,
      "outputs": [
        {
          "output_type": "execute_result",
          "data": {
            "text/plain": [
              "1"
            ]
          },
          "metadata": {
            "tags": []
          },
          "execution_count": 14
        }
      ]
    },
    {
      "cell_type": "code",
      "metadata": {
        "colab": {
          "base_uri": "https://localhost:8080/"
        },
        "id": "qhO7ZkO15fhz",
        "outputId": "97aeea81-37fb-4309-8960-a1d92e9f5206"
      },
      "source": [
        "arr.shape"
      ],
      "execution_count": null,
      "outputs": [
        {
          "output_type": "execute_result",
          "data": {
            "text/plain": [
              "(4,)"
            ]
          },
          "metadata": {
            "tags": []
          },
          "execution_count": 16
        }
      ]
    },
    {
      "cell_type": "code",
      "metadata": {
        "colab": {
          "base_uri": "https://localhost:8080/"
        },
        "id": "ZQmpexA_5rQK",
        "outputId": "f85afc42-f580-454e-b236-3b58db3b8963"
      },
      "source": [
        "arr.size"
      ],
      "execution_count": null,
      "outputs": [
        {
          "output_type": "execute_result",
          "data": {
            "text/plain": [
              "4"
            ]
          },
          "metadata": {
            "tags": []
          },
          "execution_count": 17
        }
      ]
    },
    {
      "cell_type": "code",
      "metadata": {
        "colab": {
          "base_uri": "https://localhost:8080/"
        },
        "id": "NOYWNcQE5z0C",
        "outputId": "e6e2c398-c344-45ab-9ae5-ec354c2448fa"
      },
      "source": [
        "arr.itemsize  # no. of byts  required to store  the  item\n"
      ],
      "execution_count": null,
      "outputs": [
        {
          "output_type": "execute_result",
          "data": {
            "text/plain": [
              "8"
            ]
          },
          "metadata": {
            "tags": []
          },
          "execution_count": 18
        }
      ]
    },
    {
      "cell_type": "markdown",
      "metadata": {
        "id": "n_9hi8d__Qgh"
      },
      "source": [
        "# 2d array"
      ]
    },
    {
      "cell_type": "code",
      "metadata": {
        "id": "LUCAVnRS_MX6"
      },
      "source": [
        "arr2d = np.array( [ [1,2,3.5],\n",
        "                   [4,3.6,8]\n",
        "])"
      ],
      "execution_count": null,
      "outputs": []
    },
    {
      "cell_type": "code",
      "metadata": {
        "colab": {
          "base_uri": "https://localhost:8080/"
        },
        "id": "O-ifopFS_v2g",
        "outputId": "9b1e47d2-888f-468b-992a-9dc100e5385c"
      },
      "source": [
        "arr2d.ndim"
      ],
      "execution_count": null,
      "outputs": [
        {
          "output_type": "execute_result",
          "data": {
            "text/plain": [
              "2"
            ]
          },
          "metadata": {
            "tags": []
          },
          "execution_count": 22
        }
      ]
    },
    {
      "cell_type": "code",
      "metadata": {
        "colab": {
          "base_uri": "https://localhost:8080/"
        },
        "id": "4tOeKwxpAOo9",
        "outputId": "d0c19a82-1265-452a-8585-37d13c1edb57"
      },
      "source": [
        "arr2d.shape"
      ],
      "execution_count": null,
      "outputs": [
        {
          "output_type": "execute_result",
          "data": {
            "text/plain": [
              "(2, 3)"
            ]
          },
          "metadata": {
            "tags": []
          },
          "execution_count": 23
        }
      ]
    },
    {
      "cell_type": "code",
      "metadata": {
        "colab": {
          "base_uri": "https://localhost:8080/"
        },
        "id": "iThW8DbhAWcu",
        "outputId": "49617c97-4f75-4c43-9136-b7b2c9dbd029"
      },
      "source": [
        "arr2d.itemsize"
      ],
      "execution_count": null,
      "outputs": [
        {
          "output_type": "execute_result",
          "data": {
            "text/plain": [
              "8"
            ]
          },
          "metadata": {
            "tags": []
          },
          "execution_count": 24
        }
      ]
    },
    {
      "cell_type": "code",
      "metadata": {
        "colab": {
          "base_uri": "https://localhost:8080/"
        },
        "id": "XeS1AyQEAg-2",
        "outputId": "4a021539-049b-44f9-8ef6-90773e716061"
      },
      "source": [
        "arr2d.size"
      ],
      "execution_count": null,
      "outputs": [
        {
          "output_type": "execute_result",
          "data": {
            "text/plain": [
              "6"
            ]
          },
          "metadata": {
            "tags": []
          },
          "execution_count": 25
        }
      ]
    },
    {
      "cell_type": "markdown",
      "metadata": {
        "id": "1OjbefhzBn_N"
      },
      "source": [
        "#  3d array"
      ]
    },
    {
      "cell_type": "code",
      "metadata": {
        "id": "hC-X1Fv6BsS7"
      },
      "source": [
        "arr3d  =  np.array([[[1,2,3],\n",
        "                    [1,2,3]\n",
        "                    ],  \n",
        "                   [[1,2,3] ,\n",
        "                    [1,2,3]\n",
        "                   ]])"
      ],
      "execution_count": null,
      "outputs": []
    },
    {
      "cell_type": "code",
      "metadata": {
        "colab": {
          "base_uri": "https://localhost:8080/"
        },
        "id": "MsrR82wIGJdU",
        "outputId": "5b2e49a5-6f96-431e-8b6d-cce632af07e9"
      },
      "source": [
        "arr3d.ndim"
      ],
      "execution_count": null,
      "outputs": [
        {
          "output_type": "execute_result",
          "data": {
            "text/plain": [
              "3"
            ]
          },
          "metadata": {
            "tags": []
          },
          "execution_count": 32
        }
      ]
    },
    {
      "cell_type": "code",
      "metadata": {
        "colab": {
          "base_uri": "https://localhost:8080/"
        },
        "id": "geS6xcI0DbZx",
        "outputId": "d5bf35d7-609f-4db5-9e4d-2799fede5798"
      },
      "source": [
        "arr3d.shape"
      ],
      "execution_count": null,
      "outputs": [
        {
          "output_type": "execute_result",
          "data": {
            "text/plain": [
              "(2, 2, 3)"
            ]
          },
          "metadata": {
            "tags": []
          },
          "execution_count": 31
        }
      ]
    },
    {
      "cell_type": "code",
      "metadata": {
        "colab": {
          "base_uri": "https://localhost:8080/"
        },
        "id": "V4y2ezS0GGOr",
        "outputId": "97c2941a-1540-4603-895b-312e37ff633c"
      },
      "source": [
        "arr3d.size"
      ],
      "execution_count": null,
      "outputs": [
        {
          "output_type": "execute_result",
          "data": {
            "text/plain": [
              "12"
            ]
          },
          "metadata": {
            "tags": []
          },
          "execution_count": 33
        }
      ]
    },
    {
      "cell_type": "code",
      "metadata": {
        "colab": {
          "base_uri": "https://localhost:8080/"
        },
        "id": "Zs1g3Fa8HA8q",
        "outputId": "dfbae195-5f75-4cd0-8abf-7e50113f3baf"
      },
      "source": [
        "arr3d.itemsize"
      ],
      "execution_count": null,
      "outputs": [
        {
          "output_type": "execute_result",
          "data": {
            "text/plain": [
              "8"
            ]
          },
          "metadata": {
            "tags": []
          },
          "execution_count": 34
        }
      ]
    },
    {
      "cell_type": "markdown",
      "metadata": {
        "id": "fdI0suOLHITy"
      },
      "source": [
        "# 4d array"
      ]
    },
    {
      "cell_type": "code",
      "metadata": {
        "colab": {
          "base_uri": "https://localhost:8080/"
        },
        "id": "8XydLhe4geTO",
        "outputId": "b4837b90-72b3-4acd-9c99-d11331bbc214"
      },
      "source": [
        "np.ones((2,2,3,4))"
      ],
      "execution_count": null,
      "outputs": [
        {
          "output_type": "execute_result",
          "data": {
            "text/plain": [
              "array([[[[1., 1., 1., 1.],\n",
              "         [1., 1., 1., 1.],\n",
              "         [1., 1., 1., 1.]],\n",
              "\n",
              "        [[1., 1., 1., 1.],\n",
              "         [1., 1., 1., 1.],\n",
              "         [1., 1., 1., 1.]]],\n",
              "\n",
              "\n",
              "       [[[1., 1., 1., 1.],\n",
              "         [1., 1., 1., 1.],\n",
              "         [1., 1., 1., 1.]],\n",
              "\n",
              "        [[1., 1., 1., 1.],\n",
              "         [1., 1., 1., 1.],\n",
              "         [1., 1., 1., 1.]]]])"
            ]
          },
          "metadata": {
            "tags": []
          },
          "execution_count": 9
        }
      ]
    },
    {
      "cell_type": "code",
      "metadata": {
        "colab": {
          "base_uri": "https://localhost:8080/"
        },
        "id": "HC6GUMW4i7Iu",
        "outputId": "13d099de-0966-4c65-cfd4-e83d62d03a0d"
      },
      "source": [
        "3 * np.ones((2,3,4))"
      ],
      "execution_count": null,
      "outputs": [
        {
          "output_type": "execute_result",
          "data": {
            "text/plain": [
              "array([[[3., 3., 3., 3.],\n",
              "        [3., 3., 3., 3.],\n",
              "        [3., 3., 3., 3.]],\n",
              "\n",
              "       [[3., 3., 3., 3.],\n",
              "        [3., 3., 3., 3.],\n",
              "        [3., 3., 3., 3.]]])"
            ]
          },
          "metadata": {
            "tags": []
          },
          "execution_count": 13
        }
      ]
    },
    {
      "cell_type": "code",
      "metadata": {
        "colab": {
          "base_uri": "https://localhost:8080/"
        },
        "id": "cKpHALxTkJ7R",
        "outputId": "11506314-74db-427a-8ea4-a1e6f23aada6"
      },
      "source": [
        "np.zeros((2,3,4))"
      ],
      "execution_count": null,
      "outputs": [
        {
          "output_type": "execute_result",
          "data": {
            "text/plain": [
              "array([[[0., 0., 0., 0.],\n",
              "        [0., 0., 0., 0.],\n",
              "        [0., 0., 0., 0.]],\n",
              "\n",
              "       [[0., 0., 0., 0.],\n",
              "        [0., 0., 0., 0.],\n",
              "        [0., 0., 0., 0.]]])"
            ]
          },
          "metadata": {
            "tags": []
          },
          "execution_count": 14
        }
      ]
    },
    {
      "cell_type": "markdown",
      "metadata": {
        "id": "y2UA0DqXmTMG"
      },
      "source": [
        "# random"
      ]
    },
    {
      "cell_type": "code",
      "metadata": {
        "colab": {
          "base_uri": "https://localhost:8080/"
        },
        "id": "fSq_XpuXkgzY",
        "outputId": "a18267f4-2e23-41a9-e571-01bb8511045f"
      },
      "source": [
        "np.random.randn( 2, 3 )      # gives matrix where each of these numbers are randomly  sampled  from a normal distribution with mean=0 & var = 1"
      ],
      "execution_count": null,
      "outputs": [
        {
          "output_type": "execute_result",
          "data": {
            "text/plain": [
              "array([[-1.13940621,  0.35662278,  0.10547106],\n",
              "       [ 0.10704665, -0.4644042 ,  1.35690227]])"
            ]
          },
          "metadata": {
            "tags": []
          },
          "execution_count": 17
        }
      ]
    },
    {
      "cell_type": "code",
      "metadata": {
        "colab": {
          "base_uri": "https://localhost:8080/"
        },
        "id": "T1lx4G5Mme9t",
        "outputId": "7b4801c1-2fa2-4a9b-b8f5-d0393af4d66a"
      },
      "source": [
        "np.random.rand(2,3)  # gives numbers uniformly sampled btwn 0 &1"
      ],
      "execution_count": null,
      "outputs": [
        {
          "output_type": "execute_result",
          "data": {
            "text/plain": [
              "array([[0.92488445, 0.27141604, 0.64640264],\n",
              "       [0.24073585, 0.21834054, 0.24818227]])"
            ]
          },
          "metadata": {
            "tags": []
          },
          "execution_count": 18
        }
      ]
    },
    {
      "cell_type": "code",
      "metadata": {
        "colab": {
          "base_uri": "https://localhost:8080/"
        },
        "id": "iSiGgcDpnGx6",
        "outputId": "68614a77-11b3-4798-876e-7de8c3c87299"
      },
      "source": [
        "np.random.randint(0,100,(2,3))"
      ],
      "execution_count": null,
      "outputs": [
        {
          "output_type": "execute_result",
          "data": {
            "text/plain": [
              "array([[64, 44, 33],\n",
              "       [79, 55, 93]])"
            ]
          },
          "metadata": {
            "tags": []
          },
          "execution_count": 19
        }
      ]
    },
    {
      "cell_type": "code",
      "metadata": {
        "colab": {
          "base_uri": "https://localhost:8080/"
        },
        "id": "9Lr-tpw1n7BF",
        "outputId": "3876e88b-f358-49b3-e7cb-2e04ea32a581"
      },
      "source": [
        "np.arange(7,30,7)"
      ],
      "execution_count": null,
      "outputs": [
        {
          "output_type": "execute_result",
          "data": {
            "text/plain": [
              "array([ 7, 14, 21, 28])"
            ]
          },
          "metadata": {
            "tags": []
          },
          "execution_count": 20
        }
      ]
    },
    {
      "cell_type": "code",
      "metadata": {
        "colab": {
          "base_uri": "https://localhost:8080/"
        },
        "id": "AkTq_4GaoBCp",
        "outputId": "2abf55f0-5681-48d2-8067-7a7f554041c5"
      },
      "source": [
        "np.linspace(1,20,8)"
      ],
      "execution_count": null,
      "outputs": [
        {
          "output_type": "execute_result",
          "data": {
            "text/plain": [
              "array([ 1.        ,  3.71428571,  6.42857143,  9.14285714, 11.85714286,\n",
              "       14.57142857, 17.28571429, 20.        ])"
            ]
          },
          "metadata": {
            "tags": []
          },
          "execution_count": 21
        }
      ]
    },
    {
      "cell_type": "markdown",
      "metadata": {
        "id": "LuMTSwv8phQi"
      },
      "source": [
        "# indexing"
      ]
    },
    {
      "cell_type": "code",
      "metadata": {
        "id": "4ZI4tzfiooYA"
      },
      "source": [
        "arr3d  =  np.array([[[1,2,3],\n",
        "                    [4,5,6]\n",
        "                    ],  \n",
        "                   [[7,8,9] ,\n",
        "                    [10,11,12]\n",
        "                   ]])"
      ],
      "execution_count": null,
      "outputs": []
    },
    {
      "cell_type": "code",
      "metadata": {
        "colab": {
          "base_uri": "https://localhost:8080/"
        },
        "id": "G_fFb2d1qlHl",
        "outputId": "ceff190e-32cc-4c6b-eb83-e2734fc55832"
      },
      "source": [
        "print(arr3d)"
      ],
      "execution_count": null,
      "outputs": [
        {
          "output_type": "stream",
          "text": [
            "[[[ 1  2  3]\n",
            "  [ 4  5  6]]\n",
            "\n",
            " [[ 7  8  9]\n",
            "  [10 11 12]]]\n"
          ],
          "name": "stdout"
        }
      ]
    },
    {
      "cell_type": "code",
      "metadata": {
        "colab": {
          "base_uri": "https://localhost:8080/"
        },
        "id": "pfhWc0xwqpEt",
        "outputId": "4c2dd62c-d337-4c5a-d456-825efd4b4d6e"
      },
      "source": [
        "arr3d[0,0,0]"
      ],
      "execution_count": null,
      "outputs": [
        {
          "output_type": "execute_result",
          "data": {
            "text/plain": [
              "1"
            ]
          },
          "metadata": {
            "tags": []
          },
          "execution_count": 8
        }
      ]
    },
    {
      "cell_type": "code",
      "metadata": {
        "colab": {
          "base_uri": "https://localhost:8080/"
        },
        "id": "mznMsuBUq1Ub",
        "outputId": "834475ad-2dbc-4397-a4be-bb65f1369712"
      },
      "source": [
        "arr3d[1,1,1]\n"
      ],
      "execution_count": null,
      "outputs": [
        {
          "output_type": "execute_result",
          "data": {
            "text/plain": [
              "11"
            ]
          },
          "metadata": {
            "tags": []
          },
          "execution_count": 9
        }
      ]
    },
    {
      "cell_type": "code",
      "metadata": {
        "colab": {
          "base_uri": "https://localhost:8080/"
        },
        "id": "TAJu3HGSr3EE",
        "outputId": "2132d6a6-b052-490c-b146-7bec6224578e"
      },
      "source": [
        "arr3d[0,1,2]"
      ],
      "execution_count": null,
      "outputs": [
        {
          "output_type": "execute_result",
          "data": {
            "text/plain": [
              "6"
            ]
          },
          "metadata": {
            "tags": []
          },
          "execution_count": 10
        }
      ]
    },
    {
      "cell_type": "code",
      "metadata": {
        "colab": {
          "base_uri": "https://localhost:8080/"
        },
        "id": "R458Jt0Br9j5",
        "outputId": "60b056eb-604e-4c6a-d0e0-c6208f1e845d"
      },
      "source": [
        "arr3d[0,: , :]\n"
      ],
      "execution_count": null,
      "outputs": [
        {
          "output_type": "execute_result",
          "data": {
            "text/plain": [
              "array([[1, 2, 3],\n",
              "       [4, 5, 6]])"
            ]
          },
          "metadata": {
            "tags": []
          },
          "execution_count": 11
        }
      ]
    },
    {
      "cell_type": "code",
      "metadata": {
        "colab": {
          "base_uri": "https://localhost:8080/"
        },
        "id": "0k5_4lYvtFwf",
        "outputId": "c1767baa-6b03-4803-b8e1-84bf518d7d72"
      },
      "source": [
        "arr3d[1,:  , : ]"
      ],
      "execution_count": null,
      "outputs": [
        {
          "output_type": "execute_result",
          "data": {
            "text/plain": [
              "array([[ 7,  8,  9],\n",
              "       [10, 11, 12]])"
            ]
          },
          "metadata": {
            "tags": []
          },
          "execution_count": 36
        }
      ]
    },
    {
      "cell_type": "code",
      "metadata": {
        "colab": {
          "base_uri": "https://localhost:8080/"
        },
        "id": "xTIjTR75tP8v",
        "outputId": "7250e3f1-9e8a-48f4-8fee-21abce1b3737"
      },
      "source": [
        "arr3d[:  , 1 , :]"
      ],
      "execution_count": null,
      "outputs": [
        {
          "output_type": "execute_result",
          "data": {
            "text/plain": [
              "array([[ 4,  5,  6],\n",
              "       [10, 11, 12]])"
            ]
          },
          "metadata": {
            "tags": []
          },
          "execution_count": 37
        }
      ]
    },
    {
      "cell_type": "code",
      "metadata": {
        "colab": {
          "base_uri": "https://localhost:8080/"
        },
        "id": "kDS87GEdtYMe",
        "outputId": "69d8887a-787f-4fb8-9c7c-89f95294d143"
      },
      "source": [
        "arr3d[0,1,0:2]  "
      ],
      "execution_count": null,
      "outputs": [
        {
          "output_type": "execute_result",
          "data": {
            "text/plain": [
              "array([4, 5])"
            ]
          },
          "metadata": {
            "tags": []
          },
          "execution_count": 40
        }
      ]
    },
    {
      "cell_type": "code",
      "metadata": {
        "colab": {
          "base_uri": "https://localhost:8080/"
        },
        "id": "O3b7TRYOtg0P",
        "outputId": "b90976c0-10c3-47b0-8449-097871a45c38"
      },
      "source": [
        "arr3d % 2 == 0   # to find even numbers in array"
      ],
      "execution_count": null,
      "outputs": [
        {
          "output_type": "execute_result",
          "data": {
            "text/plain": [
              "array([[[False,  True, False],\n",
              "        [ True, False,  True]],\n",
              "\n",
              "       [[False,  True, False],\n",
              "        [ True, False,  True]]])"
            ]
          },
          "metadata": {
            "tags": []
          },
          "execution_count": 41
        }
      ]
    },
    {
      "cell_type": "code",
      "metadata": {
        "colab": {
          "base_uri": "https://localhost:8080/"
        },
        "id": "XQnoE4xvuNx9",
        "outputId": "3ee44c9c-969f-4156-ebef-097e896650cd"
      },
      "source": [
        "arr3d[ arr3d % 2 == 0]"
      ],
      "execution_count": null,
      "outputs": [
        {
          "output_type": "execute_result",
          "data": {
            "text/plain": [
              "array([ 2,  4,  6,  8, 10, 12])"
            ]
          },
          "metadata": {
            "tags": []
          },
          "execution_count": 42
        }
      ]
    },
    {
      "cell_type": "code",
      "metadata": {
        "colab": {
          "base_uri": "https://localhost:8080/"
        },
        "id": "8ykZpFShvL6c",
        "outputId": "68a124fd-77b5-468f-8482-47002156b2aa"
      },
      "source": [
        "arr3d [ arr3d % 2 == 1]"
      ],
      "execution_count": null,
      "outputs": [
        {
          "output_type": "execute_result",
          "data": {
            "text/plain": [
              "array([ 1,  3,  5,  7,  9, 11])"
            ]
          },
          "metadata": {
            "tags": []
          },
          "execution_count": 43
        }
      ]
    },
    {
      "cell_type": "code",
      "metadata": {
        "colab": {
          "base_uri": "https://localhost:8080/"
        },
        "id": "2QK66d2SvSMs",
        "outputId": "4c93cc69-a865-498f-da21-d7b8d5ce827a"
      },
      "source": [
        "arr3d [ (arr3d % 2 == 1) & (arr3d > 5)]"
      ],
      "execution_count": null,
      "outputs": [
        {
          "output_type": "execute_result",
          "data": {
            "text/plain": [
              "array([ 7,  9, 11])"
            ]
          },
          "metadata": {
            "tags": []
          },
          "execution_count": 48
        }
      ]
    },
    {
      "cell_type": "code",
      "metadata": {
        "id": "6FBtg1e3vgZT"
      },
      "source": [
        "arr3d [ 0, 1, 1] = 1729  # changing the value in array"
      ],
      "execution_count": null,
      "outputs": []
    },
    {
      "cell_type": "code",
      "metadata": {
        "colab": {
          "base_uri": "https://localhost:8080/"
        },
        "id": "PGELbiIkwkMh",
        "outputId": "a9bbd87e-3465-420d-9d45-532bfe51d6c9"
      },
      "source": [
        "print(arr3d)"
      ],
      "execution_count": null,
      "outputs": [
        {
          "output_type": "stream",
          "text": [
            "[[[ 1  2  3]\n",
            "  [ 4  5  6]]\n",
            "\n",
            " [[ 7  8  9]\n",
            "  [10 11 12]]]\n"
          ],
          "name": "stdout"
        }
      ]
    },
    {
      "cell_type": "markdown",
      "metadata": {
        "id": "tegDou5PM4KT"
      },
      "source": [
        "# numPy operations"
      ]
    },
    {
      "cell_type": "code",
      "metadata": {
        "id": "zRcJiS6wN5P8"
      },
      "source": [
        "import numpy as np\n"
      ],
      "execution_count": null,
      "outputs": []
    },
    {
      "cell_type": "code",
      "metadata": {
        "id": "CZz2s-4fND8R"
      },
      "source": [
        "arr1 = np.random.rand(3,4)\n",
        "arr2 = np.random.rand(3,4)"
      ],
      "execution_count": null,
      "outputs": []
    },
    {
      "cell_type": "code",
      "metadata": {
        "colab": {
          "base_uri": "https://localhost:8080/"
        },
        "id": "eIR66GL4Nfk5",
        "outputId": "c6dc46cd-302c-4398-f7b8-ac8ba7ebcb6c"
      },
      "source": [
        "arr1\n"
      ],
      "execution_count": null,
      "outputs": [
        {
          "output_type": "execute_result",
          "data": {
            "text/plain": [
              "array([[0.97078166, 0.59029334, 0.83577159, 0.64049664],\n",
              "       [0.15078806, 0.60159674, 0.57383941, 0.52238716],\n",
              "       [0.414586  , 0.96694828, 0.41167208, 0.50574762]])"
            ]
          },
          "metadata": {
            "tags": []
          },
          "execution_count": 21
        }
      ]
    },
    {
      "cell_type": "code",
      "metadata": {
        "colab": {
          "base_uri": "https://localhost:8080/"
        },
        "id": "ZUn3qS24NpKx",
        "outputId": "653c7eee-4833-4d28-f37f-51e12ec298ac"
      },
      "source": [
        "arr2"
      ],
      "execution_count": null,
      "outputs": [
        {
          "output_type": "execute_result",
          "data": {
            "text/plain": [
              "array([[0.12905781, 0.09465357, 0.92647146, 0.5941849 ],\n",
              "       [0.05480694, 0.89593815, 0.87955714, 0.96923683],\n",
              "       [0.55414573, 0.13444409, 0.78742503, 0.79088755]])"
            ]
          },
          "metadata": {
            "tags": []
          },
          "execution_count": 22
        }
      ]
    },
    {
      "cell_type": "code",
      "metadata": {
        "colab": {
          "base_uri": "https://localhost:8080/"
        },
        "id": "sUPGF5VyOGYH",
        "outputId": "43b3b408-eb45-4a5e-e3dc-0edec522bad4"
      },
      "source": [
        "arr1 + arr2"
      ],
      "execution_count": null,
      "outputs": [
        {
          "output_type": "execute_result",
          "data": {
            "text/plain": [
              "array([[1.09983947, 0.68494691, 1.76224305, 1.23468154],\n",
              "       [0.205595  , 1.49753489, 1.45339655, 1.49162399],\n",
              "       [0.96873172, 1.10139237, 1.19909711, 1.29663517]])"
            ]
          },
          "metadata": {
            "tags": []
          },
          "execution_count": 23
        }
      ]
    },
    {
      "cell_type": "code",
      "metadata": {
        "colab": {
          "base_uri": "https://localhost:8080/"
        },
        "id": "tlaC5JspOKAQ",
        "outputId": "57edcafc-27d8-436a-c99e-137662a3844c"
      },
      "source": [
        "arr1 * arr2"
      ],
      "execution_count": null,
      "outputs": [
        {
          "output_type": "execute_result",
          "data": {
            "text/plain": [
              "array([[0.12528696, 0.05587337, 0.77431852, 0.38057343],\n",
              "       [0.00826423, 0.53899347, 0.50472455, 0.50631687],\n",
              "       [0.22974106, 0.13000048, 0.3241609 , 0.3999895 ]])"
            ]
          },
          "metadata": {
            "tags": []
          },
          "execution_count": 24
        }
      ]
    },
    {
      "cell_type": "code",
      "metadata": {
        "colab": {
          "base_uri": "https://localhost:8080/"
        },
        "id": "WNgBuyl4OTCP",
        "outputId": "f85cd6fc-e2af-482f-eaa9-7a53b07c6213"
      },
      "source": [
        "arr1 / arr2"
      ],
      "execution_count": null,
      "outputs": [
        {
          "output_type": "execute_result",
          "data": {
            "text/plain": [
              "array([[7.5220681 , 6.23635592, 0.90210182, 1.07794163],\n",
              "       [2.75125856, 0.67147129, 0.65241856, 0.53896751],\n",
              "       [0.74815338, 7.19219603, 0.52280796, 0.63946843]])"
            ]
          },
          "metadata": {
            "tags": []
          },
          "execution_count": 25
        }
      ]
    },
    {
      "cell_type": "code",
      "metadata": {
        "id": "um2R8QzCOV8_"
      },
      "source": [
        ""
      ],
      "execution_count": null,
      "outputs": []
    },
    {
      "cell_type": "markdown",
      "metadata": {
        "id": "aNrz_Kugyr5Z"
      },
      "source": [
        "# Exercise on n- dimensional array"
      ]
    },
    {
      "cell_type": "code",
      "metadata": {
        "id": "l4AEHCkAy3Uw"
      },
      "source": [
        "ndim = 2\n",
        "npoints = 100000\n",
        "points = np.random.rand( npoints , ndim)"
      ],
      "execution_count": null,
      "outputs": []
    },
    {
      "cell_type": "code",
      "metadata": {
        "colab": {
          "base_uri": "https://localhost:8080/"
        },
        "id": "l1ADrNN3zKFX",
        "outputId": "c8f29dd4-0c04-4aa4-d0c8-4fede89a81e5"
      },
      "source": [
        "points.ndim"
      ],
      "execution_count": null,
      "outputs": [
        {
          "output_type": "execute_result",
          "data": {
            "text/plain": [
              "2"
            ]
          },
          "metadata": {
            "tags": []
          },
          "execution_count": 4
        }
      ]
    },
    {
      "cell_type": "code",
      "metadata": {
        "colab": {
          "base_uri": "https://localhost:8080/"
        },
        "id": "6aQ7s60_z1Ll",
        "outputId": "e247c838-0bd7-49bf-a415-d1fdc5940a74"
      },
      "source": [
        "points[ 0:2 , :]"
      ],
      "execution_count": null,
      "outputs": [
        {
          "output_type": "execute_result",
          "data": {
            "text/plain": [
              "array([[0.1593846 , 0.95035179],\n",
              "       [0.74933035, 0.22137586]])"
            ]
          },
          "metadata": {
            "tags": []
          },
          "execution_count": 5
        }
      ]
    },
    {
      "cell_type": "code",
      "metadata": {
        "id": "J_VynOdO0Cms"
      },
      "source": [
        "dfo = np.zeros((npoints, 1))"
      ],
      "execution_count": null,
      "outputs": []
    },
    {
      "cell_type": "code",
      "metadata": {
        "colab": {
          "base_uri": "https://localhost:8080/"
        },
        "id": "-NtPIBM4Mthd",
        "outputId": "7a8d6c79-b106-4533-f6dd-539fa913cbe3"
      },
      "source": [
        "print(dfo)"
      ],
      "execution_count": null,
      "outputs": [
        {
          "output_type": "stream",
          "text": [
            "[[0.]\n",
            " [0.]\n",
            " [0.]\n",
            " ...\n",
            " [0.]\n",
            " [0.]\n",
            " [0.]]\n"
          ],
          "name": "stdout"
        }
      ]
    },
    {
      "cell_type": "code",
      "metadata": {
        "colab": {
          "base_uri": "https://localhost:8080/"
        },
        "id": "LGj7xGg9NKch",
        "outputId": "9db472e8-f0a5-4d32-88dd-e1fcded6074a"
      },
      "source": [
        "points_sqr = points * points\n",
        "dfo  = np.sqrt(np.sum( points_sqr , axis = 1))\n",
        "outside_points = np.sum(  dfo > 1)\n",
        "print( \" the fraction of points outside is \" , outside_points/ npoints)"
      ],
      "execution_count": null,
      "outputs": [
        {
          "output_type": "stream",
          "text": [
            " the fraction of points outside is  0.21581\n"
          ],
          "name": "stdout"
        }
      ]
    },
    {
      "cell_type": "code",
      "metadata": {
        "id": "wblf9Vuy4TYx"
      },
      "source": [
        "def  area_outside(  npoints ,  ndim ):\n",
        "    points = np.random.rand(  npoints,  ndim)\n",
        "    dfo  =  np.sqrt( np.sum( points * points , axis= 1))\n",
        "    return np.sum( dfo >  1) / npoints"
      ],
      "execution_count": null,
      "outputs": []
    },
    {
      "cell_type": "code",
      "metadata": {
        "colab": {
          "base_uri": "https://localhost:8080/"
        },
        "id": "_RdVisGaC8Am",
        "outputId": "17532017-d863-4866-9bb8-11fc98ea6be8"
      },
      "source": [
        "print( area_outside(100000,2) )"
      ],
      "execution_count": null,
      "outputs": [
        {
          "output_type": "stream",
          "text": [
            "0.21369\n"
          ],
          "name": "stdout"
        }
      ]
    },
    {
      "cell_type": "code",
      "metadata": {
        "colab": {
          "base_uri": "https://localhost:8080/"
        },
        "id": "KcRb-uDsEFdy",
        "outputId": "c91a7c53-b030-41e7-b4ba-99a4954544d5"
      },
      "source": [
        "for i in range(2,11):\n",
        "    print(i , area_outside(npoints , i))"
      ],
      "execution_count": null,
      "outputs": [
        {
          "output_type": "stream",
          "text": [
            "2 0.2128\n",
            "3 0.47785\n",
            "4 0.69304\n",
            "5 0.83549\n",
            "6 0.91941\n",
            "7 0.96348\n",
            "8 0.98414\n",
            "9 0.99373\n",
            "10 0.99751\n"
          ],
          "name": "stdout"
        }
      ]
    },
    {
      "cell_type": "code",
      "metadata": {
        "id": "aFgGhOqnEfI4"
      },
      "source": [
        ""
      ],
      "execution_count": null,
      "outputs": []
    },
    {
      "cell_type": "markdown",
      "metadata": {
        "id": "3XiqerIxF_sR"
      },
      "source": [
        "#  Broadcasting\n",
        "\n",
        "When operating on two arrays, NumPy compares their shapes element-wise. It starts with the trailing (i.e. rightmost) dimensions and works its way left. Two dimensions are compatible when\n",
        "\n",
        "they are equal, or\n",
        "\n",
        "one of them is 1\n",
        "\n",
        "The term broadcasting describes how numpy treats arrays with different shapes during arithmetic operations. Subject to certain constraints, the smaller array is “broadcast” across the larger array so that they have compatible shapes. Broadcasting provides a means of vectorizing array operations so that looping occurs in C instead of Python. It does this without making needless copies of data and usually leads to efficient algorithm implementations. There are, however, cases where broadcasting is a bad idea because it leads to inefficient use of memory that slows computation."
      ]
    },
    {
      "cell_type": "code",
      "metadata": {
        "id": "3wJwB4yuGISQ"
      },
      "source": [
        "arr1 = np.arange(8)"
      ],
      "execution_count": null,
      "outputs": []
    },
    {
      "cell_type": "code",
      "metadata": {
        "colab": {
          "base_uri": "https://localhost:8080/"
        },
        "id": "7QWR5bqezQ9b",
        "outputId": "5d343b9e-a7e4-4305-f4c2-49703bcbfa96"
      },
      "source": [
        "print(arr1)"
      ],
      "execution_count": null,
      "outputs": [
        {
          "output_type": "stream",
          "text": [
            "[0 1 2 3 4 5 6 7]\n"
          ],
          "name": "stdout"
        }
      ]
    },
    {
      "cell_type": "code",
      "metadata": {
        "colab": {
          "base_uri": "https://localhost:8080/"
        },
        "id": "rJP6mZFw0Ec0",
        "outputId": "d116724c-9f70-46e2-b26e-10d8ac8732b4"
      },
      "source": [
        "print( arr1.ndim)"
      ],
      "execution_count": null,
      "outputs": [
        {
          "output_type": "stream",
          "text": [
            "1\n"
          ],
          "name": "stdout"
        }
      ]
    },
    {
      "cell_type": "code",
      "metadata": {
        "id": "EOv6iTlAzVnx"
      },
      "source": [
        "arr1_new = arr1.reshape(2,2,2)"
      ],
      "execution_count": null,
      "outputs": []
    },
    {
      "cell_type": "code",
      "metadata": {
        "colab": {
          "base_uri": "https://localhost:8080/"
        },
        "id": "sFrvMkmvzvyC",
        "outputId": "cf1affe0-e8e2-4397-9656-2d34fb0517cb"
      },
      "source": [
        "print(arr1_new)"
      ],
      "execution_count": null,
      "outputs": [
        {
          "output_type": "stream",
          "text": [
            "[[[0 1]\n",
            "  [2 3]]\n",
            "\n",
            " [[4 5]\n",
            "  [6 7]]]\n"
          ],
          "name": "stdout"
        }
      ]
    },
    {
      "cell_type": "code",
      "metadata": {
        "id": "7qyzkbiLzz-q"
      },
      "source": [
        "arr2 = np.arange(8).reshape(2,2,2)"
      ],
      "execution_count": null,
      "outputs": []
    },
    {
      "cell_type": "code",
      "metadata": {
        "colab": {
          "base_uri": "https://localhost:8080/"
        },
        "id": "rIg102yf00CB",
        "outputId": "dd461bef-58c6-4a47-f654-cdfc80aa6d1e"
      },
      "source": [
        "print( arr1_new +  arr2)   "
      ],
      "execution_count": null,
      "outputs": [
        {
          "output_type": "stream",
          "text": [
            "[[[ 0  2]\n",
            "  [ 4  6]]\n",
            "\n",
            " [[ 8 10]\n",
            "  [12 14]]]\n"
          ],
          "name": "stdout"
        }
      ]
    },
    {
      "cell_type": "code",
      "metadata": {
        "colab": {
          "base_uri": "https://localhost:8080/"
        },
        "id": "YWeESwlX3Fc2",
        "outputId": "a8722c20-71c2-4918-aa17-da299d4c393f"
      },
      "source": [
        "arr2[ : ,  0]"
      ],
      "execution_count": null,
      "outputs": [
        {
          "output_type": "execute_result",
          "data": {
            "text/plain": [
              "array([[0, 1],\n",
              "       [4, 5]])"
            ]
          },
          "metadata": {
            "tags": []
          },
          "execution_count": 13
        }
      ]
    },
    {
      "cell_type": "code",
      "metadata": {
        "colab": {
          "base_uri": "https://localhost:8080/"
        },
        "id": "maDzvSuQ07mm",
        "outputId": "5f8169f7-79ac-4bda-cd12-6e56201922fb"
      },
      "source": [
        "arr1_new + arr2[: , 0]  #  broacasting arr1_new (2,2,2) + arr2 ( 1,2,2)"
      ],
      "execution_count": null,
      "outputs": [
        {
          "output_type": "execute_result",
          "data": {
            "text/plain": [
              "array([[[ 0,  2],\n",
              "        [ 6,  8]],\n",
              "\n",
              "       [[ 4,  6],\n",
              "        [10, 12]]])"
            ]
          },
          "metadata": {
            "tags": []
          },
          "execution_count": 12
        }
      ]
    },
    {
      "cell_type": "code",
      "metadata": {
        "colab": {
          "base_uri": "https://localhost:8080/"
        },
        "id": "ogeLoZg-4x9m",
        "outputId": "d9974559-33ca-491e-d8a3-73657402ed1c"
      },
      "source": [
        "arr2[1,1,  :].reshape(2,1)"
      ],
      "execution_count": null,
      "outputs": [
        {
          "output_type": "execute_result",
          "data": {
            "text/plain": [
              "array([[6],\n",
              "       [7]])"
            ]
          },
          "metadata": {
            "tags": []
          },
          "execution_count": 17
        }
      ]
    },
    {
      "cell_type": "code",
      "metadata": {
        "colab": {
          "base_uri": "https://localhost:8080/"
        },
        "id": "C3-eI6Lq3-zH",
        "outputId": "18d98c7c-9b5e-47a0-a76a-5122b96f6223"
      },
      "source": [
        "arr1_new + arr2[1,1,  :].reshape(2,1)  #  arr1_new( 2, 2,2) + arr2 (2,1)"
      ],
      "execution_count": null,
      "outputs": [
        {
          "output_type": "execute_result",
          "data": {
            "text/plain": [
              "array([[[ 6,  7],\n",
              "        [ 9, 10]],\n",
              "\n",
              "       [[10, 11],\n",
              "        [13, 14]]])"
            ]
          },
          "metadata": {
            "tags": []
          },
          "execution_count": 16
        }
      ]
    },
    {
      "cell_type": "code",
      "metadata": {
        "id": "W7UY0qXB4IY6"
      },
      "source": [
        "arr1 = np.arange(9) "
      ],
      "execution_count": null,
      "outputs": []
    },
    {
      "cell_type": "code",
      "metadata": {
        "id": "VQwdz1LqiumY"
      },
      "source": [
        "print(arr1)"
      ],
      "execution_count": null,
      "outputs": []
    },
    {
      "cell_type": "markdown",
      "metadata": {
        "id": "8D2es_Zu5iwS"
      },
      "source": [
        "# file handling"
      ]
    },
    {
      "cell_type": "code",
      "metadata": {
        "id": "Y5rGs6R35mY3"
      },
      "source": [
        ""
      ],
      "execution_count": null,
      "outputs": []
    },
    {
      "cell_type": "markdown",
      "metadata": {
        "id": "eC1ktyA1i5yU"
      },
      "source": [
        "#  Stats with numpy"
      ]
    },
    {
      "cell_type": "code",
      "metadata": {
        "id": "VEFuagirkWMw"
      },
      "source": [
        "import numpy as np\n"
      ],
      "execution_count": null,
      "outputs": []
    },
    {
      "cell_type": "code",
      "metadata": {
        "id": "ekY0IJpZj1Q3"
      },
      "source": [
        "arr = np.random.rand(100000,)"
      ],
      "execution_count": null,
      "outputs": []
    },
    {
      "cell_type": "code",
      "metadata": {
        "colab": {
          "base_uri": "https://localhost:8080/"
        },
        "id": "shV6E1UOkSGe",
        "outputId": "bbb5d460-4ea5-4104-dab8-f764256058e8"
      },
      "source": [
        "arr"
      ],
      "execution_count": null,
      "outputs": [
        {
          "output_type": "execute_result",
          "data": {
            "text/plain": [
              "array([0.48158519, 0.63656036, 0.5863072 , ..., 0.23011973, 0.00177181,\n",
              "       0.07937489])"
            ]
          },
          "metadata": {
            "tags": []
          },
          "execution_count": 4
        }
      ]
    },
    {
      "cell_type": "code",
      "metadata": {
        "colab": {
          "base_uri": "https://localhost:8080/"
        },
        "id": "Ai8MvYIZkpJV",
        "outputId": "84ad6dc3-062b-4f5f-e6ed-b14640aeb87b"
      },
      "source": [
        "np.amin(arr)"
      ],
      "execution_count": null,
      "outputs": [
        {
          "output_type": "execute_result",
          "data": {
            "text/plain": [
              "3.3529582968983007e-06"
            ]
          },
          "metadata": {
            "tags": []
          },
          "execution_count": 5
        }
      ]
    },
    {
      "cell_type": "code",
      "metadata": {
        "colab": {
          "base_uri": "https://localhost:8080/"
        },
        "id": "JAWZE4M3kuhk",
        "outputId": "f9568362-8c6f-4a33-ce0d-4fe498e03a4b"
      },
      "source": [
        "np.amax(arr)"
      ],
      "execution_count": null,
      "outputs": [
        {
          "output_type": "execute_result",
          "data": {
            "text/plain": [
              "0.9999994505849258"
            ]
          },
          "metadata": {
            "tags": []
          },
          "execution_count": 6
        }
      ]
    },
    {
      "cell_type": "code",
      "metadata": {
        "colab": {
          "base_uri": "https://localhost:8080/"
        },
        "id": "FsBerLoekzpt",
        "outputId": "2873ad78-9509-4dec-f5e5-ad0239595edb"
      },
      "source": [
        "np.mean(arr)"
      ],
      "execution_count": null,
      "outputs": [
        {
          "output_type": "execute_result",
          "data": {
            "text/plain": [
              "0.500579433026447"
            ]
          },
          "metadata": {
            "tags": []
          },
          "execution_count": 7
        }
      ]
    },
    {
      "cell_type": "code",
      "metadata": {
        "colab": {
          "base_uri": "https://localhost:8080/"
        },
        "id": "cnUdUnnZlG78",
        "outputId": "769cb737-d9bc-45b2-9a69-83b695a469e8"
      },
      "source": [
        "np.var(arr)"
      ],
      "execution_count": null,
      "outputs": [
        {
          "output_type": "execute_result",
          "data": {
            "text/plain": [
              "0.08335360085409024"
            ]
          },
          "metadata": {
            "tags": []
          },
          "execution_count": 8
        }
      ]
    },
    {
      "cell_type": "code",
      "metadata": {
        "colab": {
          "base_uri": "https://localhost:8080/"
        },
        "id": "oWnVAN8RlKzk",
        "outputId": "a35fc3bb-5924-44fb-d8a6-478f299b2944"
      },
      "source": [
        "np.std(arr)"
      ],
      "execution_count": null,
      "outputs": [
        {
          "output_type": "execute_result",
          "data": {
            "text/plain": [
              "0.28871023683633085"
            ]
          },
          "metadata": {
            "tags": []
          },
          "execution_count": 9
        }
      ]
    },
    {
      "cell_type": "code",
      "metadata": {
        "colab": {
          "base_uri": "https://localhost:8080/"
        },
        "id": "ZBfJRM3ZlQQM",
        "outputId": "d3e8c6d5-73b2-4029-bf4e-f656c0ecf3dd"
      },
      "source": [
        "np.median(arr)"
      ],
      "execution_count": null,
      "outputs": [
        {
          "output_type": "execute_result",
          "data": {
            "text/plain": [
              "0.5013780498050175"
            ]
          },
          "metadata": {
            "tags": []
          },
          "execution_count": 10
        }
      ]
    },
    {
      "cell_type": "code",
      "metadata": {
        "colab": {
          "base_uri": "https://localhost:8080/"
        },
        "id": "-zw-PWHFllHa",
        "outputId": "d24b4394-99c0-4bc1-dbd1-89b9431aee97"
      },
      "source": [
        "\n",
        "arr.ndim"
      ],
      "execution_count": null,
      "outputs": [
        {
          "output_type": "execute_result",
          "data": {
            "text/plain": [
              "1"
            ]
          },
          "metadata": {
            "tags": []
          },
          "execution_count": 11
        }
      ]
    },
    {
      "cell_type": "code",
      "metadata": {
        "colab": {
          "base_uri": "https://localhost:8080/"
        },
        "id": "A7NZBo7Vlsgq",
        "outputId": "3301d191-a6cf-4aff-f112-32d600addfc9"
      },
      "source": [
        "np.percentile(arr, 50)"
      ],
      "execution_count": null,
      "outputs": [
        {
          "output_type": "execute_result",
          "data": {
            "text/plain": [
              "0.5013780498050175"
            ]
          },
          "metadata": {
            "tags": []
          },
          "execution_count": 12
        }
      ]
    },
    {
      "cell_type": "code",
      "metadata": {
        "id": "U0JXpjtFl-0D"
      },
      "source": [
        "\n",
        "Iqr = np.percentile(arr,75) - np.percentile(arr , 25) # inter quartile range"
      ],
      "execution_count": null,
      "outputs": []
    },
    {
      "cell_type": "code",
      "metadata": {
        "colab": {
          "base_uri": "https://localhost:8080/"
        },
        "id": "sGsEr34JmfyF",
        "outputId": "2832343e-ed48-4ced-8914-2063964a094d"
      },
      "source": [
        "Iqr"
      ],
      "execution_count": null,
      "outputs": [
        {
          "output_type": "execute_result",
          "data": {
            "text/plain": [
              "0.5000273483608872"
            ]
          },
          "metadata": {
            "tags": []
          },
          "execution_count": 14
        }
      ]
    },
    {
      "cell_type": "code",
      "metadata": {
        "id": "bM_huG3Wmhxp"
      },
      "source": [
        "quartiles = np.percentile( arr , [25, 75]) # this part takes less time than the previous one"
      ],
      "execution_count": null,
      "outputs": []
    },
    {
      "cell_type": "code",
      "metadata": {
        "colab": {
          "base_uri": "https://localhost:8080/"
        },
        "id": "3WtP_A_cnU2Z",
        "outputId": "2940f68f-59c4-41c7-9148-92e013ad21ec"
      },
      "source": [
        "quartiles"
      ],
      "execution_count": null,
      "outputs": [
        {
          "output_type": "execute_result",
          "data": {
            "text/plain": [
              "array([0.25033008, 0.75035743])"
            ]
          },
          "metadata": {
            "tags": []
          },
          "execution_count": 16
        }
      ]
    },
    {
      "cell_type": "code",
      "metadata": {
        "id": "Rql3jgYFnWmg"
      },
      "source": [
        "iqr = quartiles[1] - quartiles[0]"
      ],
      "execution_count": null,
      "outputs": []
    },
    {
      "cell_type": "code",
      "metadata": {
        "colab": {
          "base_uri": "https://localhost:8080/"
        },
        "id": "sOeJx6SkniG_",
        "outputId": "5ab2c268-da4b-44a7-b4a2-5bbce64f921c"
      },
      "source": [
        "iqr\n"
      ],
      "execution_count": null,
      "outputs": [
        {
          "output_type": "execute_result",
          "data": {
            "text/plain": [
              "-0.5000273483608872"
            ]
          },
          "metadata": {
            "tags": []
          },
          "execution_count": 20
        }
      ]
    },
    {
      "cell_type": "code",
      "metadata": {
        "id": "oR5kHCDlno7n"
      },
      "source": [
        "z_scores =  arr - (np.mean(arr)/ np.std(arr))"
      ],
      "execution_count": null,
      "outputs": []
    },
    {
      "cell_type": "code",
      "metadata": {
        "colab": {
          "base_uri": "https://localhost:8080/"
        },
        "id": "mBps2Imyods1",
        "outputId": "2fd9daeb-c3e1-4859-a48e-d052c029b089"
      },
      "source": [
        "z_scores"
      ],
      "execution_count": null,
      "outputs": [
        {
          "output_type": "execute_result",
          "data": {
            "text/plain": [
              "array([-1.252262  , -1.09728683, -1.14753999, ..., -1.50372746,\n",
              "       -1.73207538, -1.6544723 ])"
            ]
          },
          "metadata": {
            "tags": []
          },
          "execution_count": 23
        }
      ]
    },
    {
      "cell_type": "code",
      "metadata": {
        "colab": {
          "base_uri": "https://localhost:8080/"
        },
        "id": "BlLDMbMCofst",
        "outputId": "63c2f8bc-1779-40fa-b573-ac45d7d16e5f"
      },
      "source": [
        "np.histogram( arr , bins = 5)"
      ],
      "execution_count": null,
      "outputs": [
        {
          "output_type": "execute_result",
          "data": {
            "text/plain": [
              "(array([19962, 19993, 19941, 20023, 20081]),\n",
              " array([3.35295830e-06, 2.00002572e-01, 4.00001792e-01, 6.00001012e-01,\n",
              "        8.00000231e-01, 9.99999451e-01]))"
            ]
          },
          "metadata": {
            "tags": []
          },
          "execution_count": 24
        }
      ]
    },
    {
      "cell_type": "code",
      "metadata": {
        "id": "IYsB1cdPpBc9"
      },
      "source": [
        "arr1= np.random.randint(150 , 180 , 100) # height"
      ],
      "execution_count": null,
      "outputs": []
    },
    {
      "cell_type": "code",
      "metadata": {
        "id": "s1eOThJQyfZF"
      },
      "source": [
        "arr2 = np.random.randint(40 , 80 , 100) # weight"
      ],
      "execution_count": null,
      "outputs": []
    },
    {
      "cell_type": "code",
      "metadata": {
        "id": "miKPGEkRywgr"
      },
      "source": [
        "arr3 = np.random.randint(17, 22 , 100) # age"
      ],
      "execution_count": null,
      "outputs": []
    },
    {
      "cell_type": "code",
      "metadata": {
        "colab": {
          "base_uri": "https://localhost:8080/"
        },
        "id": "oCNtkOGjy_kj",
        "outputId": "532b51b4-33c1-4914-8820-17b9157b0ee6"
      },
      "source": [
        "arr1"
      ],
      "execution_count": null,
      "outputs": [
        {
          "output_type": "execute_result",
          "data": {
            "text/plain": [
              "array([158, 176, 159, 167, 161, 155, 160, 164, 152, 168, 155, 154, 160,\n",
              "       162, 172, 176, 172, 164, 178, 165, 160, 172, 167, 175, 162, 159,\n",
              "       164, 171, 165, 168, 164, 172, 176, 172, 172, 155, 174, 150, 174,\n",
              "       169, 158, 175, 156, 154, 173, 158, 159, 164, 178, 156, 156, 167,\n",
              "       173, 172, 159, 164, 170, 176, 175, 150, 177, 158, 178, 150, 177,\n",
              "       174, 178, 164, 158, 171, 174, 169, 160, 157, 155, 171, 167, 157,\n",
              "       154, 157, 165, 150, 150, 178, 176, 168, 175, 179, 162, 168, 158,\n",
              "       163, 173, 156, 171, 175, 151, 175, 153, 151])"
            ]
          },
          "metadata": {
            "tags": []
          },
          "execution_count": 5
        }
      ]
    },
    {
      "cell_type": "code",
      "metadata": {
        "colab": {
          "base_uri": "https://localhost:8080/"
        },
        "id": "pcmM9G8vzHnK",
        "outputId": "6223c9f0-c9e6-491c-b015-5793c4961c90"
      },
      "source": [
        "np.concatenate( ( arr1 , arr2 , arr3) )"
      ],
      "execution_count": null,
      "outputs": [
        {
          "output_type": "execute_result",
          "data": {
            "text/plain": [
              "array([158, 176, 159, 167, 161, 155, 160, 164, 152, 168, 155, 154, 160,\n",
              "       162, 172, 176, 172, 164, 178, 165, 160, 172, 167, 175, 162, 159,\n",
              "       164, 171, 165, 168, 164, 172, 176, 172, 172, 155, 174, 150, 174,\n",
              "       169, 158, 175, 156, 154, 173, 158, 159, 164, 178, 156, 156, 167,\n",
              "       173, 172, 159, 164, 170, 176, 175, 150, 177, 158, 178, 150, 177,\n",
              "       174, 178, 164, 158, 171, 174, 169, 160, 157, 155, 171, 167, 157,\n",
              "       154, 157, 165, 150, 150, 178, 176, 168, 175, 179, 162, 168, 158,\n",
              "       163, 173, 156, 171, 175, 151, 175, 153, 151,  56,  73,  45,  62,\n",
              "        52,  68,  79,  75,  79,  66,  70,  65,  69,  71,  70,  75,  49,\n",
              "        79,  77,  45,  58,  56,  43,  47,  77,  70,  55,  46,  65,  55,\n",
              "        57,  56,  62,  71,  72,  55,  64,  72,  55,  54,  49,  55,  52,\n",
              "        44,  40,  71,  48,  47,  72,  58,  55,  63,  48,  78,  71,  78,\n",
              "        61,  79,  57,  49,  73,  59,  73,  66,  58,  71,  47,  61,  61,\n",
              "        79,  40,  64,  54,  47,  46,  62,  47,  69,  66,  40,  76,  48,\n",
              "        69,  59,  50,  51,  79,  44,  77,  63,  68,  73,  76,  70,  64,\n",
              "        66,  59,  65,  62,  67,  19,  17,  19,  19,  18,  19,  17,  18,\n",
              "        21,  20,  17,  19,  19,  19,  21,  21,  18,  21,  18,  19,  19,\n",
              "        20,  20,  17,  19,  20,  18,  20,  21,  19,  17,  20,  19,  18,\n",
              "        18,  21,  18,  20,  21,  21,  20,  21,  18,  21,  17,  19,  17,\n",
              "        21,  18,  17,  21,  21,  17,  21,  19,  20,  17,  20,  19,  21,\n",
              "        21,  19,  19,  21,  18,  19,  20,  20,  21,  20,  18,  19,  20,\n",
              "        17,  19,  19,  21,  20,  18,  17,  19,  18,  17,  21,  21,  21,\n",
              "        17,  20,  21,  17,  18,  20,  19,  21,  17,  19,  18,  18,  19,\n",
              "        19])"
            ]
          },
          "metadata": {
            "tags": []
          },
          "execution_count": 9
        }
      ]
    },
    {
      "cell_type": "code",
      "metadata": {
        "id": "RLG5M9z5zmqh"
      },
      "source": [
        "arr2d = np.vstack((arr1 , arr2 , arr3 ))"
      ],
      "execution_count": null,
      "outputs": []
    },
    {
      "cell_type": "code",
      "metadata": {
        "colab": {
          "base_uri": "https://localhost:8080/"
        },
        "id": "JehCu0zP1Kwv",
        "outputId": "2fe5323b-97fa-4c37-aaaf-4f186a1fb99d"
      },
      "source": [
        "arr2d"
      ],
      "execution_count": null,
      "outputs": [
        {
          "output_type": "execute_result",
          "data": {
            "text/plain": [
              "array([[158, 176, 159, 167, 161, 155, 160, 164, 152, 168, 155, 154, 160,\n",
              "        162, 172, 176, 172, 164, 178, 165, 160, 172, 167, 175, 162, 159,\n",
              "        164, 171, 165, 168, 164, 172, 176, 172, 172, 155, 174, 150, 174,\n",
              "        169, 158, 175, 156, 154, 173, 158, 159, 164, 178, 156, 156, 167,\n",
              "        173, 172, 159, 164, 170, 176, 175, 150, 177, 158, 178, 150, 177,\n",
              "        174, 178, 164, 158, 171, 174, 169, 160, 157, 155, 171, 167, 157,\n",
              "        154, 157, 165, 150, 150, 178, 176, 168, 175, 179, 162, 168, 158,\n",
              "        163, 173, 156, 171, 175, 151, 175, 153, 151],\n",
              "       [ 56,  73,  45,  62,  52,  68,  79,  75,  79,  66,  70,  65,  69,\n",
              "         71,  70,  75,  49,  79,  77,  45,  58,  56,  43,  47,  77,  70,\n",
              "         55,  46,  65,  55,  57,  56,  62,  71,  72,  55,  64,  72,  55,\n",
              "         54,  49,  55,  52,  44,  40,  71,  48,  47,  72,  58,  55,  63,\n",
              "         48,  78,  71,  78,  61,  79,  57,  49,  73,  59,  73,  66,  58,\n",
              "         71,  47,  61,  61,  79,  40,  64,  54,  47,  46,  62,  47,  69,\n",
              "         66,  40,  76,  48,  69,  59,  50,  51,  79,  44,  77,  63,  68,\n",
              "         73,  76,  70,  64,  66,  59,  65,  62,  67],\n",
              "       [ 19,  17,  19,  19,  18,  19,  17,  18,  21,  20,  17,  19,  19,\n",
              "         19,  21,  21,  18,  21,  18,  19,  19,  20,  20,  17,  19,  20,\n",
              "         18,  20,  21,  19,  17,  20,  19,  18,  18,  21,  18,  20,  21,\n",
              "         21,  20,  21,  18,  21,  17,  19,  17,  21,  18,  17,  21,  21,\n",
              "         17,  21,  19,  20,  17,  20,  19,  21,  21,  19,  19,  21,  18,\n",
              "         19,  20,  20,  21,  20,  18,  19,  20,  17,  19,  19,  21,  20,\n",
              "         18,  17,  19,  18,  17,  21,  21,  21,  17,  20,  21,  17,  18,\n",
              "         20,  19,  21,  17,  19,  18,  18,  19,  19]])"
            ]
          },
          "metadata": {
            "tags": []
          },
          "execution_count": 18
        }
      ]
    },
    {
      "cell_type": "code",
      "metadata": {
        "colab": {
          "base_uri": "https://localhost:8080/"
        },
        "id": "FlFJ_Cup0HjA",
        "outputId": "c705e106-4aee-4736-f245-e17817295c31"
      },
      "source": [
        "np.vstack((arr1 , arr2 , arr3 )).shape"
      ],
      "execution_count": null,
      "outputs": [
        {
          "output_type": "execute_result",
          "data": {
            "text/plain": [
              "(3, 100)"
            ]
          },
          "metadata": {
            "tags": []
          },
          "execution_count": 14
        }
      ]
    },
    {
      "cell_type": "code",
      "metadata": {
        "colab": {
          "base_uri": "https://localhost:8080/"
        },
        "id": "ZlljUC8w0VQH",
        "outputId": "d1e03de7-0a03-404d-9322-b12911dc36d5"
      },
      "source": [
        "np.amin( arr2d , axis= 1 ) # min across coloumns  i.e min along each row"
      ],
      "execution_count": null,
      "outputs": [
        {
          "output_type": "execute_result",
          "data": {
            "text/plain": [
              "array([150,  40,  17])"
            ]
          },
          "metadata": {
            "tags": []
          },
          "execution_count": 19
        }
      ]
    },
    {
      "cell_type": "code",
      "metadata": {
        "colab": {
          "base_uri": "https://localhost:8080/"
        },
        "id": "-SXoEapv1Hne",
        "outputId": "288eb24b-ab17-4cfb-c5d7-0ace9207b5b0"
      },
      "source": [
        "np.amin(arr2d  , axis= 1)"
      ],
      "execution_count": null,
      "outputs": [
        {
          "output_type": "execute_result",
          "data": {
            "text/plain": [
              "array([150,  40,  17])"
            ]
          },
          "metadata": {
            "tags": []
          },
          "execution_count": 26
        }
      ]
    },
    {
      "cell_type": "code",
      "metadata": {
        "colab": {
          "base_uri": "https://localhost:8080/"
        },
        "id": "-H0jiuCm1vF9",
        "outputId": "a9b995e8-4ea4-4553-9063-8a3a1d0c6ae6"
      },
      "source": [
        "np.sum(np.isin(np.amin(arr2d  , axis= 1) , arr2d))"
      ],
      "execution_count": null,
      "outputs": [
        {
          "output_type": "execute_result",
          "data": {
            "text/plain": [
              "3"
            ]
          },
          "metadata": {
            "tags": []
          },
          "execution_count": 27
        }
      ]
    },
    {
      "cell_type": "code",
      "metadata": {
        "colab": {
          "base_uri": "https://localhost:8080/"
        },
        "id": "VuqfRtd32nk1",
        "outputId": "53653e26-2be7-48b1-d264-003001a8cd46"
      },
      "source": [
        "np.amax(arr2d  , axis= 1)"
      ],
      "execution_count": null,
      "outputs": [
        {
          "output_type": "execute_result",
          "data": {
            "text/plain": [
              "array([179,  79,  21])"
            ]
          },
          "metadata": {
            "tags": []
          },
          "execution_count": 28
        }
      ]
    },
    {
      "cell_type": "code",
      "metadata": {
        "colab": {
          "base_uri": "https://localhost:8080/"
        },
        "id": "QFpI0b3_45Vp",
        "outputId": "2ab3f6e0-76aa-404c-9b6e-cf1e274eb822"
      },
      "source": [
        "np.mean(arr2d  , axis= 1) # mean height, weight , age"
      ],
      "execution_count": null,
      "outputs": [
        {
          "output_type": "execute_result",
          "data": {
            "text/plain": [
              "array([165.15,  61.59,  19.16])"
            ]
          },
          "metadata": {
            "tags": []
          },
          "execution_count": 29
        }
      ]
    },
    {
      "cell_type": "markdown",
      "metadata": {
        "id": "_bfUCsKQ5iFz"
      },
      "source": [
        "# checking stats rules with numpy"
      ]
    },
    {
      "cell_type": "markdown",
      "metadata": {
        "id": "QWLJ9Hht52uF"
      },
      "source": [
        "## Mean subracted array has zero mean"
      ]
    },
    {
      "cell_type": "code",
      "metadata": {
        "id": "9yGYSHH85ngl"
      },
      "source": [
        "arr = np.random.rand(1000)"
      ],
      "execution_count": null,
      "outputs": []
    },
    {
      "cell_type": "code",
      "metadata": {
        "id": "9PXBs6wa6aA9"
      },
      "source": [
        "mean = np.mean(arr)"
      ],
      "execution_count": null,
      "outputs": []
    },
    {
      "cell_type": "code",
      "metadata": {
        "id": "v8KDEHWp6stj"
      },
      "source": [
        "arr1 = arr- mean"
      ],
      "execution_count": null,
      "outputs": []
    },
    {
      "cell_type": "code",
      "metadata": {
        "colab": {
          "base_uri": "https://localhost:8080/"
        },
        "id": "spjPmydF6xnM",
        "outputId": "6dbd71e3-62d7-49e6-b3c7-3dff9bb22c52"
      },
      "source": [
        "np.mean(arr1)  # value close to zero\n"
      ],
      "execution_count": null,
      "outputs": [
        {
          "output_type": "execute_result",
          "data": {
            "text/plain": [
              "2.3092638912203255e-17"
            ]
          },
          "metadata": {
            "tags": []
          },
          "execution_count": 33
        }
      ]
    },
    {
      "cell_type": "markdown",
      "metadata": {
        "id": "BM1Fd-YK9RQ5"
      },
      "source": [
        "## computing mean with smaller set of value "
      ]
    },
    {
      "cell_type": "code",
      "metadata": {
        "id": "wfNESXN-61pb"
      },
      "source": [
        "arr = np.random.rand( 1000)"
      ],
      "execution_count": null,
      "outputs": []
    },
    {
      "cell_type": "code",
      "metadata": {
        "colab": {
          "base_uri": "https://localhost:8080/"
        },
        "id": "ahbZBT349d-Y",
        "outputId": "9056b3a5-2575-4213-c19a-733b926a014b"
      },
      "source": [
        "for k in range (1, 50):\n",
        "    arr1 = arr[ 0: k]\n",
        "    print(k, np.mean(arr1))"
      ],
      "execution_count": null,
      "outputs": [
        {
          "output_type": "stream",
          "text": [
            "1 0.3596594835584582\n",
            "2 0.6558894946021088\n",
            "3 0.45825651152110575\n",
            "4 0.3753176185015418\n",
            "5 0.30835461378020945\n",
            "6 0.3768091202789459\n",
            "7 0.40952687794119763\n",
            "8 0.409522424746386\n",
            "9 0.3964840607911515\n",
            "10 0.3728093662161447\n",
            "11 0.39095818062490423\n",
            "12 0.36387194001111106\n",
            "13 0.3752786476894852\n",
            "14 0.4001647201500406\n",
            "15 0.4277215320599491\n",
            "16 0.4516485355858679\n",
            "17 0.4388737936030734\n",
            "18 0.4341844481560064\n",
            "19 0.4188465351795118\n",
            "20 0.4094773419729637\n",
            "21 0.40883249812277206\n",
            "22 0.4035332283013356\n",
            "23 0.4142357621309571\n",
            "24 0.42515124457532516\n",
            "25 0.42905209506172637\n",
            "26 0.42457678998255666\n",
            "27 0.4125387952907709\n",
            "28 0.4070009040749735\n",
            "29 0.4001394732350741\n",
            "30 0.3989092739743987\n",
            "31 0.4009906392829884\n",
            "32 0.40574720003340187\n",
            "33 0.40405207602272264\n",
            "34 0.41441403430383544\n",
            "35 0.42674632254002653\n",
            "36 0.42551122035494127\n",
            "37 0.4297100216229362\n",
            "38 0.4253176087181753\n",
            "39 0.4166590347041274\n",
            "40 0.42475618185558295\n",
            "41 0.42128364647387656\n",
            "42 0.4333419520001268\n",
            "43 0.43373290551358473\n",
            "44 0.43487195757519215\n",
            "45 0.4315144108225884\n",
            "46 0.43134942259052517\n",
            "47 0.43673123047539975\n",
            "48 0.43227851419772984\n",
            "49 0.438521853854629\n"
          ],
          "name": "stdout"
        }
      ]
    },
    {
      "cell_type": "code",
      "metadata": {
        "id": "mK9XdJjB9yEX"
      },
      "source": [
        "np.cumsum?"
      ],
      "execution_count": null,
      "outputs": []
    },
    {
      "cell_type": "code",
      "metadata": {
        "id": "GtihghPk-f-l"
      },
      "source": [
        "means = np.cumsum( arr) / np.arange(1 , 1001)"
      ],
      "execution_count": null,
      "outputs": []
    },
    {
      "cell_type": "code",
      "metadata": {
        "colab": {
          "base_uri": "https://localhost:8080/"
        },
        "id": "QUK3UpRF-2zs",
        "outputId": "2997e62b-141a-4d5c-f582-1d0d5a118e2c"
      },
      "source": [
        "means[0:50] # 1st 50 means"
      ],
      "execution_count": null,
      "outputs": [
        {
          "output_type": "execute_result",
          "data": {
            "text/plain": [
              "array([0.35965948, 0.65588949, 0.45825651, 0.37531762, 0.30835461,\n",
              "       0.37680912, 0.40952688, 0.40952242, 0.39648406, 0.37280937,\n",
              "       0.39095818, 0.36387194, 0.37527865, 0.40016472, 0.42772153,\n",
              "       0.45164854, 0.43887379, 0.43418445, 0.41884654, 0.40947734,\n",
              "       0.4088325 , 0.40353323, 0.41423576, 0.42515124, 0.4290521 ,\n",
              "       0.42457679, 0.4125388 , 0.4070009 , 0.40013947, 0.39890927,\n",
              "       0.40099064, 0.4057472 , 0.40405208, 0.41441403, 0.42674632,\n",
              "       0.42551122, 0.42971002, 0.42531761, 0.41665903, 0.42475618,\n",
              "       0.42128365, 0.43334195, 0.43373291, 0.43487196, 0.43151441,\n",
              "       0.43134942, 0.43673123, 0.43227851, 0.43852185, 0.43794933])"
            ]
          },
          "metadata": {
            "tags": []
          },
          "execution_count": 43
        }
      ]
    },
    {
      "cell_type": "markdown",
      "metadata": {
        "id": "4_v1Pni2_0aB"
      },
      "source": [
        "## effect of outliers on mean and median"
      ]
    },
    {
      "cell_type": "code",
      "metadata": {
        "id": "TIwt720P_m9t"
      },
      "source": [
        "arr = np.random.randint(1 , 100, 100)"
      ],
      "execution_count": null,
      "outputs": []
    },
    {
      "cell_type": "code",
      "metadata": {
        "colab": {
          "base_uri": "https://localhost:8080/"
        },
        "id": "rDfLO0blAXkp",
        "outputId": "0de2aac6-712b-424e-a4d8-7b00ea5b707a"
      },
      "source": [
        "np.mean( arr )"
      ],
      "execution_count": null,
      "outputs": [
        {
          "output_type": "execute_result",
          "data": {
            "text/plain": [
              "47.49"
            ]
          },
          "metadata": {
            "tags": []
          },
          "execution_count": 50
        }
      ]
    },
    {
      "cell_type": "code",
      "metadata": {
        "colab": {
          "base_uri": "https://localhost:8080/"
        },
        "id": "nSBfFYGRAeCp",
        "outputId": "7f81c916-26de-44e5-e480-392c5d422513"
      },
      "source": [
        "np.median(arr)"
      ],
      "execution_count": null,
      "outputs": [
        {
          "output_type": "execute_result",
          "data": {
            "text/plain": [
              "42.0"
            ]
          },
          "metadata": {
            "tags": []
          },
          "execution_count": 51
        }
      ]
    },
    {
      "cell_type": "code",
      "metadata": {
        "id": "WaM-0cINAppZ"
      },
      "source": [
        "arr = np.append( arr , [ 1000 , 2000])"
      ],
      "execution_count": null,
      "outputs": []
    },
    {
      "cell_type": "code",
      "metadata": {
        "colab": {
          "base_uri": "https://localhost:8080/"
        },
        "id": "7Gitz8LfBHPQ",
        "outputId": "e4bc0205-e971-4dd8-b69b-71703ba342c3"
      },
      "source": [
        "arr.shape"
      ],
      "execution_count": null,
      "outputs": [
        {
          "output_type": "execute_result",
          "data": {
            "text/plain": [
              "(102,)"
            ]
          },
          "metadata": {
            "tags": []
          },
          "execution_count": 53
        }
      ]
    },
    {
      "cell_type": "code",
      "metadata": {
        "colab": {
          "base_uri": "https://localhost:8080/"
        },
        "id": "qT8H3m-YBXW_",
        "outputId": "c9d338e5-a485-42ee-9ce5-aee0ae937484"
      },
      "source": [
        "np.mean(arr)"
      ],
      "execution_count": null,
      "outputs": [
        {
          "output_type": "execute_result",
          "data": {
            "text/plain": [
              "75.97058823529412"
            ]
          },
          "metadata": {
            "tags": []
          },
          "execution_count": 54
        }
      ]
    },
    {
      "cell_type": "code",
      "metadata": {
        "colab": {
          "base_uri": "https://localhost:8080/"
        },
        "id": "gL6DkNvIBcev",
        "outputId": "1e176e54-9ab7-45d0-f238-5afc8d0a2406"
      },
      "source": [
        "np.median(arr) # median is robust to outliers"
      ],
      "execution_count": null,
      "outputs": [
        {
          "output_type": "execute_result",
          "data": {
            "text/plain": [
              "42.5"
            ]
          },
          "metadata": {
            "tags": []
          },
          "execution_count": 55
        }
      ]
    },
    {
      "cell_type": "markdown",
      "metadata": {
        "id": "VWQLrD1iB9xA"
      },
      "source": [
        "## Effect of scaling arrays on mean and median"
      ]
    },
    {
      "cell_type": "code",
      "metadata": {
        "id": "1R_rVZvtBgLH"
      },
      "source": [
        "arr = np.random.rand(100)"
      ],
      "execution_count": null,
      "outputs": []
    },
    {
      "cell_type": "code",
      "metadata": {
        "colab": {
          "base_uri": "https://localhost:8080/"
        },
        "id": "3Xak4YjVCQxu",
        "outputId": "8bb1a8b3-1f71-4e48-f1ce-d9c35ca04617"
      },
      "source": [
        "np.mean( arr)"
      ],
      "execution_count": null,
      "outputs": [
        {
          "output_type": "execute_result",
          "data": {
            "text/plain": [
              "0.49137703390711995"
            ]
          },
          "metadata": {
            "tags": []
          },
          "execution_count": 57
        }
      ]
    },
    {
      "cell_type": "code",
      "metadata": {
        "colab": {
          "base_uri": "https://localhost:8080/"
        },
        "id": "IGX1q7gmCURl",
        "outputId": "d0eff8bd-585b-4084-ea65-c962688e5bd5"
      },
      "source": [
        "np.median( arr)"
      ],
      "execution_count": null,
      "outputs": [
        {
          "output_type": "execute_result",
          "data": {
            "text/plain": [
              "0.4919516576682751"
            ]
          },
          "metadata": {
            "tags": []
          },
          "execution_count": 58
        }
      ]
    },
    {
      "cell_type": "code",
      "metadata": {
        "id": "pWDpMF6UCX7m"
      },
      "source": [
        "arr1 = 2.5 * arr + 0.6 # scaling "
      ],
      "execution_count": null,
      "outputs": []
    },
    {
      "cell_type": "code",
      "metadata": {
        "colab": {
          "base_uri": "https://localhost:8080/"
        },
        "id": "sUX5cXoOCoYG",
        "outputId": "abc914a0-9e5b-4b82-d3b0-f5103a405d96"
      },
      "source": [
        "print ( np.mean(arr1) , 2.5 * np.mean(arr) + 0.6 )"
      ],
      "execution_count": null,
      "outputs": [
        {
          "output_type": "stream",
          "text": [
            "1.8284425847678 1.8284425847677999\n"
          ],
          "name": "stdout"
        }
      ]
    },
    {
      "cell_type": "code",
      "metadata": {
        "colab": {
          "base_uri": "https://localhost:8080/"
        },
        "id": "-hGFcbQJDLxc",
        "outputId": "fd07b2cb-1ecc-4b5b-f4d3-c3823fa75725"
      },
      "source": [
        "print ( np.var ( arr1 ) , 2.5 *2.5 * np.var(arr))"
      ],
      "execution_count": null,
      "outputs": [
        {
          "output_type": "stream",
          "text": [
            "0.4539113735402394 0.45391137354023925\n"
          ],
          "name": "stdout"
        }
      ]
    },
    {
      "cell_type": "markdown",
      "metadata": {
        "id": "YV5J4I3SY3ep"
      },
      "source": [
        "# important functions"
      ]
    },
    {
      "cell_type": "code",
      "metadata": {
        "id": "3ylFLYEaUJHt",
        "colab": {
          "base_uri": "https://localhost:8080/"
        },
        "outputId": "07459f1a-064a-4bcd-d92f-fd57cf520373"
      },
      "source": [
        "np.argmax ([ 1,2,3,4,5,6])  # ell the index value of max value"
      ],
      "execution_count": null,
      "outputs": [
        {
          "output_type": "execute_result",
          "data": {
            "text/plain": [
              "5"
            ]
          },
          "metadata": {
            "tags": []
          },
          "execution_count": 3
        }
      ]
    },
    {
      "cell_type": "code",
      "metadata": {
        "colab": {
          "base_uri": "https://localhost:8080/"
        },
        "id": "sUSzL4hwY9Ge",
        "outputId": "e0c4b6e8-13ac-4010-e180-23a94f77892c"
      },
      "source": [
        "np.max([ 1,2,3,4,5,6])"
      ],
      "execution_count": null,
      "outputs": [
        {
          "output_type": "execute_result",
          "data": {
            "text/plain": [
              "6"
            ]
          },
          "metadata": {
            "tags": []
          },
          "execution_count": 4
        }
      ]
    },
    {
      "cell_type": "code",
      "metadata": {
        "id": "UQ3fGg2VZKZc"
      },
      "source": [
        ""
      ],
      "execution_count": null,
      "outputs": []
    }
  ]
}