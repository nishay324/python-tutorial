{
  "nbformat": 4,
  "nbformat_minor": 0,
  "metadata": {
    "colab": {
      "name": "case_study.ipynb",
      "provenance": [],
      "toc_visible": true
    },
    "kernelspec": {
      "display_name": "Python 3",
      "name": "python3"
    },
    "language_info": {
      "name": "python"
    }
  },
  "cells": [
    {
      "cell_type": "markdown",
      "metadata": {
        "id": "aR3HFTLoU0W0"
      },
      "source": [
        "# Case study and problems"
      ]
    },
    {
      "cell_type": "code",
      "metadata": {
        "colab": {
          "base_uri": "https://localhost:8080/"
        },
        "id": "sqTbFHXFVXEb",
        "outputId": "5b95cde2-6f71-4f24-fddd-0bbfdb22cfcf"
      },
      "source": [
        "!head cric_data-200320-181217.tsv"
      ],
      "execution_count": null,
      "outputs": [
        {
          "output_type": "stream",
          "text": [
            "\tSachin Tendulkar\tRahul Dravid\tIndia\n",
            "0\t100\t78\t342\n",
            "1\t11\t62\t191\n",
            "2\t8\t85\t252\n",
            "3\t71\t24\t307\n",
            "4\t104\t17\t229\n",
            "5\t18\t104\t246\n",
            "6\t8\t76\t226\n",
            "7\t86\t74\t288\n",
            "8\t12\t60\t216\n"
          ],
          "name": "stdout"
        }
      ]
    },
    {
      "cell_type": "markdown",
      "metadata": {
        "id": "LqMhw8C1UyKR"
      },
      "source": [
        "\n",
        "\n",
        "\n",
        "1.   Find mean, median, IQR for Sachin, Rahul, and India\n",
        "2.   Find the histogram of Sachin's scores with 10 bins\n",
        "3.   Find mean of Sachin's scores grouped by 25 matches\n",
        "4.   Find mean of Sachin's scores where he has scored a century\n",
        "5.   Find mean of Sachin's scores when Rahul has scored less than 10\n",
        "6.   Find mean for Sachin's scores based on which quartile India's score falls in\n",
        "7.   For every match find out who has has scored more - Sachin or Rahul\n",
        "8.   How many more runs does Sachin score on average after having scored x runs\n",
        "9.   How many matches did Sachin take to score first 1000 runs, next 1000 runs, ...\n",
        "\n"
      ]
    },
    {
      "cell_type": "markdown",
      "metadata": {
        "id": "S4b-HTAfW0v4"
      },
      "source": [
        "## problem1"
      ]
    },
    {
      "cell_type": "code",
      "metadata": {
        "id": "JBGStkk6WEP6"
      },
      "source": [
        "import numpy as np\n"
      ],
      "execution_count": null,
      "outputs": []
    },
    {
      "cell_type": "code",
      "metadata": {
        "id": "Axd-w9xSWHzY"
      },
      "source": [
        "cric = np.loadtxt( \"cric_data-200320-181217.tsv\" , skiprows= 1 , usecols= (1 , 2,3 ))"
      ],
      "execution_count": null,
      "outputs": []
    },
    {
      "cell_type": "code",
      "metadata": {
        "colab": {
          "base_uri": "https://localhost:8080/"
        },
        "id": "S5oApzwdWdcg",
        "outputId": "3e8bb6d8-dab8-4fba-fb25-dae2a83fb91b"
      },
      "source": [
        "cric"
      ],
      "execution_count": null,
      "outputs": [
        {
          "output_type": "execute_result",
          "data": {
            "text/plain": [
              "array([[100.,  78., 342.],\n",
              "       [ 11.,  62., 191.],\n",
              "       [  8.,  85., 252.],\n",
              "       [ 71.,  24., 307.],\n",
              "       [104.,  17., 229.],\n",
              "       [ 18., 104., 246.],\n",
              "       [  8.,  76., 226.],\n",
              "       [ 86.,  74., 288.],\n",
              "       [ 12.,  60., 216.],\n",
              "       [ 85.,  12., 224.],\n",
              "       [ 18.,  63., 161.],\n",
              "       [  4., 107., 276.],\n",
              "       [  7.,  76., 283.],\n",
              "       [ 37.,   4., 297.],\n",
              "       [ 14.,   5., 139.],\n",
              "       [  0.,  33., 224.],\n",
              "       [  4.,   7., 178.],\n",
              "       [  0.,   0.,   0.],\n",
              "       [ 21.,  36., 193.],\n",
              "       [  1.,  66., 231.],\n",
              "       [ 62.,   0., 134.],\n",
              "       [  0., 123., 246.],\n",
              "       [138.,  39., 299.],\n",
              "       [ 38.,   9., 242.],\n",
              "       [  2.,  11., 214.],\n",
              "       [ 46.,  14., 152.],\n",
              "       [ 65.,   0., 104.],\n",
              "       [  0.,   0.,   4.],\n",
              "       [ 39.,  26., 155.],\n",
              "       [ 48.,   4., 168.],\n",
              "       [141.,  48., 282.],\n",
              "       [ 62.,   7., 228.],\n",
              "       [ 12.,  73., 231.],\n",
              "       [  1.,  86., 238.],\n",
              "       [ 41.,  32., 255.],\n",
              "       [ 11.,  82., 273.],\n",
              "       [  3.,  25., 143.],\n",
              "       [186., 153., 345.],\n",
              "       [ 11.,  26., 134.],\n",
              "       [ 27.,   1., 292.],\n",
              "       [ 27.,   6., 299.],\n",
              "       [ 51.,   3., 233.],\n",
              "       [ 18.,   1., 332.],\n",
              "       [ 32.,  39., 276.],\n",
              "       [146.,  30., 264.],\n",
              "       [  5.,  32., 213.],\n",
              "       [ 45.,  84., 224.],\n",
              "       [141.,  36., 306.],\n",
              "       [ 12.,  31., 259.],\n",
              "       [ 65.,   0., 141.],\n",
              "       [ 27.,  47., 155.],\n",
              "       [  7.,  13., 183.],\n",
              "       [ 16.,  49., 309.],\n",
              "       [  2.,  28., 208.],\n",
              "       [ 28.,   0., 124.],\n",
              "       [  6.,  28., 208.],\n",
              "       [123.,  19., 305.],\n",
              "       [120.,  13., 273.],\n",
              "       [  7.,  14., 186.],\n",
              "       [  3.,  11., 163.],\n",
              "       [  0., 103., 239.],\n",
              "       [ 81.,  43., 274.],\n",
              "       [  2.,   5., 182.],\n",
              "       [ 54.,   5., 256.],\n",
              "       [122.,  15., 227.],\n",
              "       [  4.,   0., 157.],\n",
              "       [ 14.,   5., 353.],\n",
              "       [  0.,  30., 271.],\n",
              "       [100.,   4., 211.],\n",
              "       [ 15.,  53., 141.],\n",
              "       [  0.,  60., 243.],\n",
              "       [ 57.,   7., 499.],\n",
              "       [ 99.,  74., 229.],\n",
              "       [ 37.,  71., 234.],\n",
              "       [ 38.,  54., 259.],\n",
              "       [ 32.,  13., 242.],\n",
              "       [ 21.,  69., 223.],\n",
              "       [ 32.,  33., 184.],\n",
              "       [ 40.,  29., 125.],\n",
              "       [  0.,   2., 195.],\n",
              "       [  5.,   8., 154.],\n",
              "       [  8.,  36., 142.],\n",
              "       [  5.,  51., 197.],\n",
              "       [  0.,   8., 213.],\n",
              "       [ 50.,  62., 256.],\n",
              "       [ 30.,   0., 197.],\n",
              "       [ 37.,  22., 177.],\n",
              "       [ 89.,  39., 167.],\n",
              "       [  4., 104., 366.],\n",
              "       [ 98.,  44., 269.],\n",
              "       [ 83.,   1., 292.],\n",
              "       [ 93.,   2., 218.],\n",
              "       [  0.,   0.,   0.],\n",
              "       [ 52.,  17., 199.],\n",
              "       [152.,   0., 319.],\n",
              "       [  1.,  14., 245.],\n",
              "       [  8.,  62., 274.],\n",
              "       [ 93.,  15., 208.],\n",
              "       [ 45.,  68., 201.],\n",
              "       [ 26.,  17., 275.],\n",
              "       [  0.,   0., 134.],\n",
              "       [  1.,  22.,  68.],\n",
              "       [  0.,  25., 149.],\n",
              "       [ 16.,  29., 216.],\n",
              "       [ 47.,  60., 407.],\n",
              "       [ 89.,  34., 302.],\n",
              "       [  3.,  65., 197.],\n",
              "       [  1.,   3., 222.],\n",
              "       [ 53.,   7., 224.],\n",
              "       [ 16.,  16., 321.],\n",
              "       [  0.,   0.,   0.],\n",
              "       [ 81.,   4., 162.],\n",
              "       [ 14.,  53., 221.],\n",
              "       [ 78.,   5., 204.],\n",
              "       [  6.,  23., 213.],\n",
              "       [105.,  82., 286.],\n",
              "       [122.,   3., 272.],\n",
              "       [  9.,   0., 382.],\n",
              "       [  8.,  20., 229.],\n",
              "       [ 28.,  21., 175.],\n",
              "       [ 35.,  80., 360.],\n",
              "       [ 69.,  22., 256.],\n",
              "       [ 13.,   8., 165.],\n",
              "       [ 97.,  18., 335.],\n",
              "       [ 93.,  24., 188.],\n",
              "       [  2.,  50., 146.],\n",
              "       [ 36.,   1., 113.],\n",
              "       [ 39.,  42., 241.],\n",
              "       [  2.,  61., 211.],\n",
              "       [ 29.,   0., 225.],\n",
              "       [ 12.,   6.,  35.],\n",
              "       [ 19.,  64., 163.],\n",
              "       [ 34.,   9., 200.],\n",
              "       [  2.,  46., 176.],\n",
              "       [100.,   0., 269.],\n",
              "       [ 44.,   0., 284.],\n",
              "       [ 82.,   0., 175.],\n",
              "       [  0.,   0.,  27.],\n",
              "       [ 79.,  13., 282.],\n",
              "       [  6.,   0., 141.],\n",
              "       [  9.,  72., 229.],\n",
              "       [  8.,  12., 213.],\n",
              "       [ 23.,  38., 205.],\n",
              "       [ 93.,  79., 279.],\n",
              "       [ 35.,  18.,  88.],\n",
              "       [ 63.,  16., 284.],\n",
              "       [ 74.,  16., 207.],\n",
              "       [  8.,  56., 224.],\n",
              "       [117.,  21., 204.],\n",
              "       [ 39.,  58., 280.],\n",
              "       [ 49.,   8., 197.],\n",
              "       [ 64.,   0., 205.],\n",
              "       [ 43.,   0., 230.],\n",
              "       [ 72.,   7., 323.],\n",
              "       [  5.,  13., 209.],\n",
              "       [ 17.,  77., 210.],\n",
              "       [  0.,  29., 162.],\n",
              "       [ 65.,  20., 272.],\n",
              "       [ 20.,  90., 251.],\n",
              "       [141.,  26., 286.],\n",
              "       [ 28.,  54., 228.],\n",
              "       [ 44.,  17., 148.],\n",
              "       [ 27.,  78., 272.],\n",
              "       [ 60.,  57., 309.],\n",
              "       [ 68.,  59., 202.],\n",
              "       [  3.,  10., 136.],\n",
              "       [139.,  15., 281.],\n",
              "       [ 31.,  54., 314.],\n",
              "       [  2.,  52., 419.],\n",
              "       [ 44.,   9., 229.],\n",
              "       [ 47.,   0., 133.],\n",
              "       [  6.,  18., 228.],\n",
              "       [ 17.,   3., 143.],\n",
              "       [ 35.,   4., 116.],\n",
              "       [ 88.,   6., 194.],\n",
              "       [114.,  16., 249.],\n",
              "       [  7.,  71., 319.],\n",
              "       [127.,  64., 205.],\n",
              "       [  0.,   7., 191.],\n",
              "       [ 45.,  61., 213.],\n",
              "       [ 33.,   1., 104.],\n",
              "       [110.,   7., 210.],\n",
              "       [146.,   0., 392.],\n",
              "       [  7.,   0.,  57.],\n",
              "       [ 25.,  26., 213.],\n",
              "       [  9.,  19., 158.],\n",
              "       [  2.,  63., 163.],\n",
              "       [ 11.,   3., 166.],\n",
              "       [ 17.,  46., 164.],\n",
              "       [ 14.,  31., 238.],\n",
              "       [  1.,  12., 118.],\n",
              "       [ 45.,  49., 189.],\n",
              "       [ 94.,   4., 346.],\n",
              "       [ 28.,  99., 390.],\n",
              "       [  4.,  47., 319.],\n",
              "       [ 62.,  56., 276.],\n",
              "       [  1.,  73., 324.],\n",
              "       [  9.,  74., 213.],\n",
              "       [ 67.,  31., 207.],\n",
              "       [ 10.,  29., 158.],\n",
              "       [ 99.,  92., 304.],\n",
              "       [ 55.,   1., 199.],\n",
              "       [  0.,   0.,   0.],\n",
              "       [  1.,  30., 195.],\n",
              "       [101.,  16., 207.],\n",
              "       [  2., 145., 352.],\n",
              "       [  1.,  22., 225.],\n",
              "       [ 16.,  31., 236.],\n",
              "       [140., 104., 301.],\n",
              "       [ 23.,  20., 136.],\n",
              "       [113.,  13., 327.],\n",
              "       [ 10.,  52., 296.],\n",
              "       [  1.,  31., 176.],\n",
              "       [ 41.,  12., 201.],\n",
              "       [  1.,  50., 171.],\n",
              "       [ 28.,   3., 191.],\n",
              "       [  2.,   9.,  11.],\n",
              "       [ 22.,  53., 211.],\n",
              "       [ 29.,  49., 225.],\n",
              "       [  1.,  21., 290.],\n",
              "       [ 25.,  14., 101.],\n",
              "       [102.,  50., 470.],\n",
              "       [  0.,  22., 165.],\n",
              "       [ 27.,   0., 192.],\n",
              "       [ 40.,   0., 213.]])"
            ]
          },
          "metadata": {
            "tags": []
          },
          "execution_count": 4
        }
      ]
    },
    {
      "cell_type": "code",
      "metadata": {
        "colab": {
          "base_uri": "https://localhost:8080/"
        },
        "id": "E2BcnRS0YmXm",
        "outputId": "7c9eddcd-e6f1-4080-d28b-b1af2ff2c306"
      },
      "source": [
        "cric.shape"
      ],
      "execution_count": null,
      "outputs": [
        {
          "output_type": "execute_result",
          "data": {
            "text/plain": [
              "(225, 3)"
            ]
          },
          "metadata": {
            "tags": []
          },
          "execution_count": 5
        }
      ]
    },
    {
      "cell_type": "code",
      "metadata": {
        "id": "u1cXN1wAWg5v"
      },
      "source": [
        "sachin_score = cric[ : , 0]"
      ],
      "execution_count": null,
      "outputs": []
    },
    {
      "cell_type": "code",
      "metadata": {
        "id": "C-HFIQQwXBVW"
      },
      "source": [
        "rahul_score = cric[ : ,1 ]"
      ],
      "execution_count": null,
      "outputs": []
    },
    {
      "cell_type": "code",
      "metadata": {
        "id": "4gpNfRYMXbaF"
      },
      "source": [
        "india_score = cric[ : , 2]"
      ],
      "execution_count": null,
      "outputs": []
    },
    {
      "cell_type": "code",
      "metadata": {
        "id": "UF3-K19pYYm7"
      },
      "source": [
        "def stats(col):\n",
        "    print(\"mean : \",np.mean(col))\n",
        "    print(\"median: \",np.median(col))\n",
        "    print(\"IQR: \", np.percentile(col, 75) - np.percentile(col, 25))"
      ],
      "execution_count": null,
      "outputs": []
    },
    {
      "cell_type": "code",
      "metadata": {
        "colab": {
          "base_uri": "https://localhost:8080/"
        },
        "id": "0UQ-DDMCbLEP",
        "outputId": "f7323fcd-6a93-444f-c602-fa8623739c42"
      },
      "source": [
        "stats(sachin_score)"
      ],
      "execution_count": null,
      "outputs": [
        {
          "output_type": "stream",
          "text": [
            "mean :  39.87555555555556\n",
            "median:  27.0\n",
            "IQR:  57.0\n"
          ],
          "name": "stdout"
        }
      ]
    },
    {
      "cell_type": "code",
      "metadata": {
        "colab": {
          "base_uri": "https://localhost:8080/"
        },
        "id": "8wQsC4sxbuDO",
        "outputId": "4c53bffa-6943-4e6b-a7fd-c97b10ca43b8"
      },
      "source": [
        "stats(rahul_score)"
      ],
      "execution_count": null,
      "outputs": [
        {
          "output_type": "stream",
          "text": [
            "mean :  32.062222222222225\n",
            "median:  22.0\n",
            "IQR:  46.0\n"
          ],
          "name": "stdout"
        }
      ]
    },
    {
      "cell_type": "code",
      "metadata": {
        "colab": {
          "base_uri": "https://localhost:8080/"
        },
        "id": "yulAtv4YcBNt",
        "outputId": "e36eb08e-9da2-415c-e595-fcc2f85cbbfc"
      },
      "source": [
        "\n",
        "stats(india_score)"
      ],
      "execution_count": null,
      "outputs": [
        {
          "output_type": "stream",
          "text": [
            "mean :  220.79555555555555\n",
            "median:  216.0\n",
            "IQR:  98.0\n"
          ],
          "name": "stdout"
        }
      ]
    },
    {
      "cell_type": "code",
      "metadata": {
        "colab": {
          "base_uri": "https://localhost:8080/"
        },
        "id": "32qHQwVWcMT1",
        "outputId": "be828f02-f6c8-4e68-b315-7239856ec95e"
      },
      "source": [
        "\n",
        "np.mean(cric , axis= 0) # alternative and more efficient method"
      ],
      "execution_count": null,
      "outputs": [
        {
          "output_type": "execute_result",
          "data": {
            "text/plain": [
              "array([ 39.87555556,  32.06222222, 220.79555556])"
            ]
          },
          "metadata": {
            "tags": []
          },
          "execution_count": 13
        }
      ]
    },
    {
      "cell_type": "code",
      "metadata": {
        "colab": {
          "base_uri": "https://localhost:8080/"
        },
        "id": "Hs79q0KodH6T",
        "outputId": "4ac42a5f-042f-4187-c51b-c07424045d4e"
      },
      "source": [
        "np.median(cric , axis= 0)"
      ],
      "execution_count": null,
      "outputs": [
        {
          "output_type": "execute_result",
          "data": {
            "text/plain": [
              "array([ 27.,  22., 216.])"
            ]
          },
          "metadata": {
            "tags": []
          },
          "execution_count": 14
        }
      ]
    },
    {
      "cell_type": "code",
      "metadata": {
        "colab": {
          "base_uri": "https://localhost:8080/"
        },
        "id": "MRtAzYivdOMa",
        "outputId": "d31ec18b-8777-4fea-b42f-d48809f4572b"
      },
      "source": [
        "np.percentile( cric , 75 , axis=0) - np.percentile( cric , 25 , axis= 0)"
      ],
      "execution_count": null,
      "outputs": [
        {
          "output_type": "execute_result",
          "data": {
            "text/plain": [
              "array([57., 46., 98.])"
            ]
          },
          "metadata": {
            "tags": []
          },
          "execution_count": 15
        }
      ]
    },
    {
      "cell_type": "markdown",
      "metadata": {
        "id": "GrTB8doVdwm6"
      },
      "source": [
        "##problem 2"
      ]
    },
    {
      "cell_type": "code",
      "metadata": {
        "colab": {
          "base_uri": "https://localhost:8080/"
        },
        "id": "MOhuWh9Rdgpi",
        "outputId": "0c167028-adfe-401c-891c-3b855a557cc4"
      },
      "source": [
        "\n",
        "np.histogram(sachin_score)"
      ],
      "execution_count": null,
      "outputs": [
        {
          "output_type": "execute_result",
          "data": {
            "text/plain": [
              "(array([99, 36, 28, 16, 11, 17,  8,  8,  1,  1]),\n",
              " array([  0. ,  18.6,  37.2,  55.8,  74.4,  93. , 111.6, 130.2, 148.8,\n",
              "        167.4, 186. ]))"
            ]
          },
          "metadata": {
            "tags": []
          },
          "execution_count": 16
        }
      ]
    },
    {
      "cell_type": "code",
      "metadata": {
        "colab": {
          "base_uri": "https://localhost:8080/"
        },
        "id": "VV-3Wi4Ud3oq",
        "outputId": "9a04c412-c0dd-4761-a6fa-e4d008a1c1a2"
      },
      "source": [
        "\n",
        "sachin_score.shape"
      ],
      "execution_count": null,
      "outputs": [
        {
          "output_type": "execute_result",
          "data": {
            "text/plain": [
              "(225,)"
            ]
          },
          "metadata": {
            "tags": []
          },
          "execution_count": 17
        }
      ]
    },
    {
      "cell_type": "code",
      "metadata": {
        "colab": {
          "base_uri": "https://localhost:8080/"
        },
        "id": "RM8SJziSiimc",
        "outputId": "167a7044-50ad-44e3-f6cb-c83d8f19fffc"
      },
      "source": [
        "\n",
        "sachin_score.ndim"
      ],
      "execution_count": null,
      "outputs": [
        {
          "output_type": "execute_result",
          "data": {
            "text/plain": [
              "1"
            ]
          },
          "metadata": {
            "tags": []
          },
          "execution_count": 18
        }
      ]
    },
    {
      "cell_type": "code",
      "metadata": {
        "id": "0Vq4k8EafATH"
      },
      "source": [
        "sachin = sachin_score.reshape(9,25)"
      ],
      "execution_count": null,
      "outputs": []
    },
    {
      "cell_type": "code",
      "metadata": {
        "colab": {
          "base_uri": "https://localhost:8080/"
        },
        "id": "kn25oPtdfKy4",
        "outputId": "91513241-7a6a-4957-c0ed-91663498218d"
      },
      "source": [
        "sachin.shape"
      ],
      "execution_count": null,
      "outputs": [
        {
          "output_type": "execute_result",
          "data": {
            "text/plain": [
              "(9, 25)"
            ]
          },
          "metadata": {
            "tags": []
          },
          "execution_count": 20
        }
      ]
    },
    {
      "cell_type": "code",
      "metadata": {
        "colab": {
          "base_uri": "https://localhost:8080/"
        },
        "id": "mCY4NJpeimsS",
        "outputId": "be115cbc-5b02-4d08-a68f-c67b513b0210"
      },
      "source": [
        "sachin.ndim"
      ],
      "execution_count": null,
      "outputs": [
        {
          "output_type": "execute_result",
          "data": {
            "text/plain": [
              "2"
            ]
          },
          "metadata": {
            "tags": []
          },
          "execution_count": 21
        }
      ]
    },
    {
      "cell_type": "code",
      "metadata": {
        "colab": {
          "base_uri": "https://localhost:8080/"
        },
        "id": "O1MUzr32fxNJ",
        "outputId": "1d077333-e48a-4844-aea0-40ee0220d336"
      },
      "source": [
        "np.mean(sachin , axis= 1)"
      ],
      "execution_count": null,
      "outputs": [
        {
          "output_type": "execute_result",
          "data": {
            "text/plain": [
              "array([33.96, 49.4 , 38.48, 40.16, 39.36, 38.2 , 44.6 , 39.52, 35.2 ])"
            ]
          },
          "metadata": {
            "tags": []
          },
          "execution_count": 22
        }
      ]
    },
    {
      "cell_type": "markdown",
      "metadata": {
        "id": "6MRiupFkSmmM"
      },
      "source": [
        "## problem 4 & 5"
      ]
    },
    {
      "cell_type": "code",
      "metadata": {
        "colab": {
          "base_uri": "https://localhost:8080/"
        },
        "id": "HsxrPpJqi6Io",
        "outputId": "105ebfdf-b7df-408c-c863-23fe17623d04"
      },
      "source": [
        "np.mean(sachin[sachin>= 100])\n"
      ],
      "execution_count": null,
      "outputs": [
        {
          "output_type": "execute_result",
          "data": {
            "text/plain": [
              "125.0"
            ]
          },
          "metadata": {
            "tags": []
          },
          "execution_count": 23
        }
      ]
    },
    {
      "cell_type": "code",
      "metadata": {
        "colab": {
          "base_uri": "https://localhost:8080/"
        },
        "id": "krkPJUkTRXOU",
        "outputId": "d1987b8b-d3b9-4ba4-87d2-39ad921bd1de"
      },
      "source": [
        "np.mean(sachin_score[rahul_score <= 10 ])"
      ],
      "execution_count": null,
      "outputs": [
        {
          "output_type": "execute_result",
          "data": {
            "text/plain": [
              "40.2112676056338"
            ]
          },
          "metadata": {
            "tags": []
          },
          "execution_count": 24
        }
      ]
    },
    {
      "cell_type": "markdown",
      "metadata": {
        "id": "BGFbfzgVH7i4"
      },
      "source": [
        "\n",
        "## problem 6 & 7"
      ]
    },
    {
      "cell_type": "code",
      "metadata": {
        "id": "nnXmb0WFUOuy"
      },
      "source": [
        "qrt = np.percentile( india_score , [25,50,75,100])"
      ],
      "execution_count": null,
      "outputs": []
    },
    {
      "cell_type": "code",
      "metadata": {
        "colab": {
          "base_uri": "https://localhost:8080/"
        },
        "id": "K8Ir2LOVImFu",
        "outputId": "f05217dc-2e9b-4a46-d729-a13c53fafeca"
      },
      "source": [
        "\n",
        "india_score.shape"
      ],
      "execution_count": null,
      "outputs": [
        {
          "output_type": "execute_result",
          "data": {
            "text/plain": [
              "(225,)"
            ]
          },
          "metadata": {
            "tags": []
          },
          "execution_count": 29
        }
      ]
    },
    {
      "cell_type": "code",
      "metadata": {
        "colab": {
          "base_uri": "https://localhost:8080/"
        },
        "id": "8jBZbBlIRvFT",
        "outputId": "11372b8e-1fc1-416a-ad9c-bfb5eca3c66b"
      },
      "source": [
        "qrt.shape # here india_score and qrt are of diff sizes and cannot be broadcasted acc to rules thus we reshape qrt"
      ],
      "execution_count": null,
      "outputs": [
        {
          "output_type": "execute_result",
          "data": {
            "text/plain": [
              "(4,)"
            ]
          },
          "metadata": {
            "tags": []
          },
          "execution_count": 31
        }
      ]
    },
    {
      "cell_type": "code",
      "metadata": {
        "id": "2jH5c5vWRyzx"
      },
      "source": [
        "qrt = qrt.reshape(4,1)"
      ],
      "execution_count": null,
      "outputs": []
    },
    {
      "cell_type": "code",
      "metadata": {
        "id": "c3aNf90_TIbg"
      },
      "source": [
        "indices = india_score < qrt"
      ],
      "execution_count": null,
      "outputs": []
    },
    {
      "cell_type": "code",
      "metadata": {
        "colab": {
          "base_uri": "https://localhost:8080/"
        },
        "id": "or_Fyj8aTfkG",
        "outputId": "5f6bf710-694e-4e55-91b0-12d4c0872cd2"
      },
      "source": [
        "indices.shape"
      ],
      "execution_count": null,
      "outputs": [
        {
          "output_type": "execute_result",
          "data": {
            "text/plain": [
              "(4, 225)"
            ]
          },
          "metadata": {
            "tags": []
          },
          "execution_count": 36
        }
      ]
    },
    {
      "cell_type": "code",
      "metadata": {
        "colab": {
          "base_uri": "https://localhost:8080/"
        },
        "id": "4HdKXy8vThgm",
        "outputId": "73c84e13-3f66-43d6-9b42-ca6f1653799e"
      },
      "source": [
        "sachin_score[indices[ 0 , : ]]"
      ],
      "execution_count": null,
      "outputs": [
        {
          "output_type": "execute_result",
          "data": {
            "text/plain": [
              "array([18., 14.,  0., 62., 46., 65.,  0., 39., 48.,  3., 11., 65., 27.,\n",
              "       28.,  3.,  4., 15., 40.,  5.,  8., 89.,  0.,  0.,  1.,  0.,  0.,\n",
              "       81., 13.,  2., 36., 12., 19.,  0.,  6., 35.,  0., 44.,  3., 47.,\n",
              "       17., 35., 33.,  7.,  9.,  2., 11., 17.,  1., 10.,  0., 23.,  1.,\n",
              "        2., 25.,  0.])"
            ]
          },
          "metadata": {
            "tags": []
          },
          "execution_count": 38
        }
      ]
    },
    {
      "cell_type": "code",
      "metadata": {
        "colab": {
          "base_uri": "https://localhost:8080/"
        },
        "id": "V1oAC5gHUMY9",
        "outputId": "5a9125d7-d5d1-4de3-ae7b-92d1c74a1e99"
      },
      "source": [
        "for i in range (4):\n",
        "    print( i , np.mean(sachin_score[indices[i]]))"
      ],
      "execution_count": null,
      "outputs": [
        {
          "output_type": "stream",
          "text": [
            "0 19.672727272727272\n",
            "1 28.18018018018018\n",
            "2 31.688622754491018\n",
            "3 39.799107142857146\n"
          ],
          "name": "stdout"
        }
      ]
    },
    {
      "cell_type": "markdown",
      "metadata": {
        "id": "jA_9FTSUWxQl"
      },
      "source": [
        "## problem 7"
      ]
    },
    {
      "cell_type": "code",
      "metadata": {
        "id": "FxlUGO7AWdVK"
      },
      "source": [
        "snr = cric[ : , 0:2]"
      ],
      "execution_count": null,
      "outputs": []
    },
    {
      "cell_type": "code",
      "metadata": {
        "colab": {
          "background_save": true
        },
        "id": "-GySvFRqXTw_"
      },
      "source": [
        "np.argmax( snr , axis= 1)"
      ],
      "execution_count": null,
      "outputs": []
    },
    {
      "cell_type": "code",
      "metadata": {
        "colab": {
          "base_uri": "https://localhost:8080/"
        },
        "id": "JxSjVxSLXU3W",
        "outputId": "677dea88-619e-4cc5-9232-06974ee0740b"
      },
      "source": [
        ""
      ],
      "execution_count": null,
      "outputs": [
        {
          "output_type": "execute_result",
          "data": {
            "text/plain": [
              "6"
            ]
          },
          "metadata": {
            "tags": []
          },
          "execution_count": 45
        }
      ]
    },
    {
      "cell_type": "code",
      "metadata": {
        "id": "_TENtki_Jrtq"
      },
      "source": [
        ""
      ],
      "execution_count": null,
      "outputs": []
    },
    {
      "cell_type": "code",
      "metadata": {
        "id": "z9cCQq9pJ4_O"
      },
      "source": [
        ""
      ],
      "execution_count": null,
      "outputs": []
    },
    {
      "cell_type": "code",
      "metadata": {
        "id": "th11R7OXJ5n-"
      },
      "source": [
        ""
      ],
      "execution_count": null,
      "outputs": []
    },
    {
      "cell_type": "code",
      "metadata": {
        "id": "YWBkp3--KDvs"
      },
      "source": [
        ""
      ],
      "execution_count": null,
      "outputs": []
    }
  ]
}